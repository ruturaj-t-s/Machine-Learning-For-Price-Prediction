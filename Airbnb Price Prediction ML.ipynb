{
 "cells": [
  {
   "cell_type": "markdown",
   "id": "62921aa2-5797-484d-8102-3a8aea46e363",
   "metadata": {},
   "source": [
    "# **Part A: Airbnb Price Prediction and Insights**"
   ]
  },
  {
   "cell_type": "markdown",
   "id": "91c03cbb-2fe1-47d5-9ea7-256ea31429cf",
   "metadata": {},
   "source": [
    "We are working on a machine learning project titled \"Airbnb Price Prediction and Insights,\" which aims to build a regression model to predict Airbnb listing prices based on features such as property type, room type, location, amenities, and host characteristics."
   ]
  },
  {
   "cell_type": "markdown",
   "id": "62af73ad-dccb-4499-86dd-322beea09907",
   "metadata": {},
   "source": [
    "## Data Exploration and Preprocessing"
   ]
  },
  {
   "cell_type": "markdown",
   "id": "c87eb1d8-67d3-4039-9a30-1fe152518e79",
   "metadata": {},
   "source": [
    "After importing all neccessary libraries and reading the file using pandas, We will run EDA as part of our data exploration and preprocessing. It is important to know the structure and summary of the dataset before working on it. Also we have to check if there are any missing values and if any column has outliers."
   ]
  },
  {
   "cell_type": "markdown",
   "id": "0580c95c-819b-4d01-ae88-7f8777ad20b7",
   "metadata": {},
   "source": [
    "### Information about structure of our dataset"
   ]
  },
  {
   "cell_type": "code",
   "execution_count": 6,
   "id": "30b0ba3a-02d5-419f-83df-3075c2cdf718",
   "metadata": {},
   "outputs": [],
   "source": [
    "import pandas as pd\n",
    "import numpy as np\n",
    "import matplotlib.pyplot as plt\n",
    "import seaborn as sns\n",
    "%matplotlib inline\n",
    "from datetime import datetime\n",
    "import re\n",
    "import warnings\n",
    "warnings.filterwarnings('ignore')"
   ]
  },
  {
   "cell_type": "code",
   "execution_count": 7,
   "id": "1b006116-3e48-4661-8c59-9a30bf534fc2",
   "metadata": {},
   "outputs": [],
   "source": [
    "df = pd.read_csv(\"Airbnb_data-copy.csv\")"
   ]
  },
  {
   "cell_type": "code",
   "execution_count": 8,
   "id": "31402339-0620-4206-ba98-3c8eda24620b",
   "metadata": {},
   "outputs": [
    {
     "name": "stdout",
     "output_type": "stream",
     "text": [
      "(74111, 29)\n",
      "id                          int64\n",
      "log_price                 float64\n",
      "property_type              object\n",
      "room_type                  object\n",
      "amenities                  object\n",
      "accommodates                int64\n",
      "bathrooms                 float64\n",
      "bed_type                   object\n",
      "cancellation_policy        object\n",
      "cleaning_fee                 bool\n",
      "city                       object\n",
      "description                object\n",
      "first_review               object\n",
      "host_has_profile_pic       object\n",
      "host_identity_verified     object\n",
      "host_response_rate         object\n",
      "host_since                 object\n",
      "instant_bookable           object\n",
      "last_review                object\n",
      "latitude                  float64\n",
      "longitude                 float64\n",
      "name                       object\n",
      "neighbourhood              object\n",
      "number_of_reviews           int64\n",
      "review_scores_rating      float64\n",
      "thumbnail_url              object\n",
      "zipcode                    object\n",
      "bedrooms                  float64\n",
      "beds                      float64\n",
      "dtype: object\n"
     ]
    },
    {
     "data": {
      "text/html": [
       "<div>\n",
       "<style scoped>\n",
       "    .dataframe tbody tr th:only-of-type {\n",
       "        vertical-align: middle;\n",
       "    }\n",
       "\n",
       "    .dataframe tbody tr th {\n",
       "        vertical-align: top;\n",
       "    }\n",
       "\n",
       "    .dataframe thead th {\n",
       "        text-align: right;\n",
       "    }\n",
       "</style>\n",
       "<table border=\"1\" class=\"dataframe\">\n",
       "  <thead>\n",
       "    <tr style=\"text-align: right;\">\n",
       "      <th></th>\n",
       "      <th>id</th>\n",
       "      <th>log_price</th>\n",
       "      <th>property_type</th>\n",
       "      <th>room_type</th>\n",
       "      <th>amenities</th>\n",
       "      <th>accommodates</th>\n",
       "      <th>bathrooms</th>\n",
       "      <th>bed_type</th>\n",
       "      <th>cancellation_policy</th>\n",
       "      <th>cleaning_fee</th>\n",
       "      <th>...</th>\n",
       "      <th>latitude</th>\n",
       "      <th>longitude</th>\n",
       "      <th>name</th>\n",
       "      <th>neighbourhood</th>\n",
       "      <th>number_of_reviews</th>\n",
       "      <th>review_scores_rating</th>\n",
       "      <th>thumbnail_url</th>\n",
       "      <th>zipcode</th>\n",
       "      <th>bedrooms</th>\n",
       "      <th>beds</th>\n",
       "    </tr>\n",
       "  </thead>\n",
       "  <tbody>\n",
       "    <tr>\n",
       "      <th>0</th>\n",
       "      <td>6901257</td>\n",
       "      <td>5.010635</td>\n",
       "      <td>Apartment</td>\n",
       "      <td>Entire home/apt</td>\n",
       "      <td>{\"Wireless Internet\",\"Air conditioning\",Kitche...</td>\n",
       "      <td>3</td>\n",
       "      <td>1.0</td>\n",
       "      <td>Real Bed</td>\n",
       "      <td>strict</td>\n",
       "      <td>True</td>\n",
       "      <td>...</td>\n",
       "      <td>40.696524</td>\n",
       "      <td>-73.991617</td>\n",
       "      <td>Beautiful brownstone 1-bedroom</td>\n",
       "      <td>Brooklyn Heights</td>\n",
       "      <td>2</td>\n",
       "      <td>100.0</td>\n",
       "      <td>https://a0.muscache.com/im/pictures/6d7cbbf7-c...</td>\n",
       "      <td>11201</td>\n",
       "      <td>1.0</td>\n",
       "      <td>1.0</td>\n",
       "    </tr>\n",
       "    <tr>\n",
       "      <th>1</th>\n",
       "      <td>6304928</td>\n",
       "      <td>5.129899</td>\n",
       "      <td>Apartment</td>\n",
       "      <td>Entire home/apt</td>\n",
       "      <td>{\"Wireless Internet\",\"Air conditioning\",Kitche...</td>\n",
       "      <td>7</td>\n",
       "      <td>1.0</td>\n",
       "      <td>Real Bed</td>\n",
       "      <td>strict</td>\n",
       "      <td>True</td>\n",
       "      <td>...</td>\n",
       "      <td>40.766115</td>\n",
       "      <td>-73.989040</td>\n",
       "      <td>Superb 3BR Apt Located Near Times Square</td>\n",
       "      <td>Hell's Kitchen</td>\n",
       "      <td>6</td>\n",
       "      <td>93.0</td>\n",
       "      <td>https://a0.muscache.com/im/pictures/348a55fe-4...</td>\n",
       "      <td>10019</td>\n",
       "      <td>3.0</td>\n",
       "      <td>3.0</td>\n",
       "    </tr>\n",
       "    <tr>\n",
       "      <th>2</th>\n",
       "      <td>7919400</td>\n",
       "      <td>4.976734</td>\n",
       "      <td>Apartment</td>\n",
       "      <td>Entire home/apt</td>\n",
       "      <td>{TV,\"Cable TV\",\"Wireless Internet\",\"Air condit...</td>\n",
       "      <td>5</td>\n",
       "      <td>1.0</td>\n",
       "      <td>Real Bed</td>\n",
       "      <td>moderate</td>\n",
       "      <td>True</td>\n",
       "      <td>...</td>\n",
       "      <td>40.808110</td>\n",
       "      <td>-73.943756</td>\n",
       "      <td>The Garden Oasis</td>\n",
       "      <td>Harlem</td>\n",
       "      <td>10</td>\n",
       "      <td>92.0</td>\n",
       "      <td>https://a0.muscache.com/im/pictures/6fae5362-9...</td>\n",
       "      <td>10027</td>\n",
       "      <td>1.0</td>\n",
       "      <td>3.0</td>\n",
       "    </tr>\n",
       "    <tr>\n",
       "      <th>3</th>\n",
       "      <td>13418779</td>\n",
       "      <td>6.620073</td>\n",
       "      <td>House</td>\n",
       "      <td>Entire home/apt</td>\n",
       "      <td>{TV,\"Cable TV\",Internet,\"Wireless Internet\",Ki...</td>\n",
       "      <td>4</td>\n",
       "      <td>1.0</td>\n",
       "      <td>Real Bed</td>\n",
       "      <td>flexible</td>\n",
       "      <td>True</td>\n",
       "      <td>...</td>\n",
       "      <td>37.772004</td>\n",
       "      <td>-122.431619</td>\n",
       "      <td>Beautiful Flat in the Heart of SF!</td>\n",
       "      <td>Lower Haight</td>\n",
       "      <td>0</td>\n",
       "      <td>NaN</td>\n",
       "      <td>https://a0.muscache.com/im/pictures/72208dad-9...</td>\n",
       "      <td>94117</td>\n",
       "      <td>2.0</td>\n",
       "      <td>2.0</td>\n",
       "    </tr>\n",
       "    <tr>\n",
       "      <th>4</th>\n",
       "      <td>3808709</td>\n",
       "      <td>4.744932</td>\n",
       "      <td>Apartment</td>\n",
       "      <td>Entire home/apt</td>\n",
       "      <td>{TV,Internet,\"Wireless Internet\",\"Air conditio...</td>\n",
       "      <td>2</td>\n",
       "      <td>1.0</td>\n",
       "      <td>Real Bed</td>\n",
       "      <td>moderate</td>\n",
       "      <td>True</td>\n",
       "      <td>...</td>\n",
       "      <td>38.925627</td>\n",
       "      <td>-77.034596</td>\n",
       "      <td>Great studio in midtown DC</td>\n",
       "      <td>Columbia Heights</td>\n",
       "      <td>4</td>\n",
       "      <td>40.0</td>\n",
       "      <td>NaN</td>\n",
       "      <td>20009</td>\n",
       "      <td>0.0</td>\n",
       "      <td>1.0</td>\n",
       "    </tr>\n",
       "  </tbody>\n",
       "</table>\n",
       "<p>5 rows × 29 columns</p>\n",
       "</div>"
      ],
      "text/plain": [
       "         id  log_price property_type        room_type  \\\n",
       "0   6901257   5.010635     Apartment  Entire home/apt   \n",
       "1   6304928   5.129899     Apartment  Entire home/apt   \n",
       "2   7919400   4.976734     Apartment  Entire home/apt   \n",
       "3  13418779   6.620073         House  Entire home/apt   \n",
       "4   3808709   4.744932     Apartment  Entire home/apt   \n",
       "\n",
       "                                           amenities  accommodates  bathrooms  \\\n",
       "0  {\"Wireless Internet\",\"Air conditioning\",Kitche...             3        1.0   \n",
       "1  {\"Wireless Internet\",\"Air conditioning\",Kitche...             7        1.0   \n",
       "2  {TV,\"Cable TV\",\"Wireless Internet\",\"Air condit...             5        1.0   \n",
       "3  {TV,\"Cable TV\",Internet,\"Wireless Internet\",Ki...             4        1.0   \n",
       "4  {TV,Internet,\"Wireless Internet\",\"Air conditio...             2        1.0   \n",
       "\n",
       "   bed_type cancellation_policy  cleaning_fee  ...   latitude   longitude  \\\n",
       "0  Real Bed              strict          True  ...  40.696524  -73.991617   \n",
       "1  Real Bed              strict          True  ...  40.766115  -73.989040   \n",
       "2  Real Bed            moderate          True  ...  40.808110  -73.943756   \n",
       "3  Real Bed            flexible          True  ...  37.772004 -122.431619   \n",
       "4  Real Bed            moderate          True  ...  38.925627  -77.034596   \n",
       "\n",
       "                                       name     neighbourhood  \\\n",
       "0            Beautiful brownstone 1-bedroom  Brooklyn Heights   \n",
       "1  Superb 3BR Apt Located Near Times Square    Hell's Kitchen   \n",
       "2                          The Garden Oasis            Harlem   \n",
       "3        Beautiful Flat in the Heart of SF!      Lower Haight   \n",
       "4                Great studio in midtown DC  Columbia Heights   \n",
       "\n",
       "  number_of_reviews review_scores_rating  \\\n",
       "0                 2                100.0   \n",
       "1                 6                 93.0   \n",
       "2                10                 92.0   \n",
       "3                 0                  NaN   \n",
       "4                 4                 40.0   \n",
       "\n",
       "                                       thumbnail_url zipcode bedrooms  beds  \n",
       "0  https://a0.muscache.com/im/pictures/6d7cbbf7-c...   11201      1.0   1.0  \n",
       "1  https://a0.muscache.com/im/pictures/348a55fe-4...   10019      3.0   3.0  \n",
       "2  https://a0.muscache.com/im/pictures/6fae5362-9...   10027      1.0   3.0  \n",
       "3  https://a0.muscache.com/im/pictures/72208dad-9...   94117      2.0   2.0  \n",
       "4                                                NaN   20009      0.0   1.0  \n",
       "\n",
       "[5 rows x 29 columns]"
      ]
     },
     "execution_count": 8,
     "metadata": {},
     "output_type": "execute_result"
    }
   ],
   "source": [
    "print(df.shape)\n",
    "print(df.dtypes)\n",
    "df.head()"
   ]
  },
  {
   "cell_type": "markdown",
   "id": "550af03e-ba65-403f-bacb-690361ee5e6a",
   "metadata": {},
   "source": [
    "#### Findings\n",
    "\n",
    " * The provided dataset has 74111 rows and 29 columns. We can check the data types for each column.\n",
    " * The columns bathrooms, bedrooms and beds should contain integer values only (1, 2, 3 bathrooms like) but the datatype for these columns is showing float meaning there are some decimal values for example 1.5 bathroom is unvalid. We should handle this.\n",
    " * Most of the columns are of object type which are strings or dates and other are numerical. We will distinguish them in categories as **Nominal, Ordinal_Categorical** and **Ordinal_Numerical**. These need feature transformation.\n",
    " * Column **amenities** should be handled in **feature engineering** by extracting all the mentioned facilities in that column.\n",
    " * As we can notice in the sample data above some of the columns have irrelevant descriptive data. The columns like **id, description, name** and **thumbnail_url** are of no use in regression model for finding any pattern or relation with target variable. So we will drop them.\n",
    " * Column **host_response_rate** is a host's response rate in percentage and it should be a numerical value.\n",
    " * We have **city, latitude, longitude, neighborhood, zipcode** columns which provides the information about the location of the listing. From which city column and Longitude-Latitude data could be enough to extract location information."
   ]
  },
  {
   "cell_type": "markdown",
   "id": "799ff8ec-c437-402f-83fe-3f3f8f875cc9",
   "metadata": {},
   "source": [
    "### Describing data with Summary Statistics"
   ]
  },
  {
   "cell_type": "code",
   "execution_count": 11,
   "id": "5594cec5-f40a-466c-9c9d-0dd21ab6f173",
   "metadata": {},
   "outputs": [
    {
     "data": {
      "text/plain": [
       "['id',\n",
       " 'log_price',\n",
       " 'accommodates',\n",
       " 'bathrooms',\n",
       " 'host_response_rate',\n",
       " 'latitude',\n",
       " 'longitude',\n",
       " 'number_of_reviews',\n",
       " 'review_scores_rating',\n",
       " 'bedrooms',\n",
       " 'beds']"
      ]
     },
     "execution_count": 11,
     "metadata": {},
     "output_type": "execute_result"
    }
   ],
   "source": [
    "#converting possible object-data column into numerical\n",
    "df['host_response_rate'] = df['host_response_rate'].str.rstrip('%').astype(float)\n",
    "\n",
    "numerical_cols = []\n",
    "for column in df.columns:\n",
    "    if df[column].dtype in [\"int64\", \"float64\"]:\n",
    "        numerical_cols.append(column)\n",
    "        \n",
    "numerical_cols"
   ]
  },
  {
   "cell_type": "code",
   "execution_count": 12,
   "id": "fecfe077-8730-4326-95e7-865e3dae640e",
   "metadata": {},
   "outputs": [
    {
     "data": {
      "text/html": [
       "<div>\n",
       "<style scoped>\n",
       "    .dataframe tbody tr th:only-of-type {\n",
       "        vertical-align: middle;\n",
       "    }\n",
       "\n",
       "    .dataframe tbody tr th {\n",
       "        vertical-align: top;\n",
       "    }\n",
       "\n",
       "    .dataframe thead th {\n",
       "        text-align: right;\n",
       "    }\n",
       "</style>\n",
       "<table border=\"1\" class=\"dataframe\">\n",
       "  <thead>\n",
       "    <tr style=\"text-align: right;\">\n",
       "      <th></th>\n",
       "      <th>id</th>\n",
       "      <th>log_price</th>\n",
       "      <th>accommodates</th>\n",
       "      <th>bathrooms</th>\n",
       "      <th>host_response_rate</th>\n",
       "      <th>latitude</th>\n",
       "      <th>longitude</th>\n",
       "      <th>number_of_reviews</th>\n",
       "      <th>review_scores_rating</th>\n",
       "      <th>bedrooms</th>\n",
       "      <th>beds</th>\n",
       "    </tr>\n",
       "  </thead>\n",
       "  <tbody>\n",
       "    <tr>\n",
       "      <th>count</th>\n",
       "      <td>7.411100e+04</td>\n",
       "      <td>74111.000000</td>\n",
       "      <td>74111.000000</td>\n",
       "      <td>73911.000000</td>\n",
       "      <td>55812.000000</td>\n",
       "      <td>74111.000000</td>\n",
       "      <td>74111.000000</td>\n",
       "      <td>74111.000000</td>\n",
       "      <td>57389.000000</td>\n",
       "      <td>74020.000000</td>\n",
       "      <td>73980.000000</td>\n",
       "    </tr>\n",
       "    <tr>\n",
       "      <th>mean</th>\n",
       "      <td>1.126662e+07</td>\n",
       "      <td>4.782069</td>\n",
       "      <td>3.155146</td>\n",
       "      <td>1.235263</td>\n",
       "      <td>94.351967</td>\n",
       "      <td>38.445958</td>\n",
       "      <td>-92.397525</td>\n",
       "      <td>20.900568</td>\n",
       "      <td>94.067365</td>\n",
       "      <td>1.265793</td>\n",
       "      <td>1.710868</td>\n",
       "    </tr>\n",
       "    <tr>\n",
       "      <th>std</th>\n",
       "      <td>6.081735e+06</td>\n",
       "      <td>0.717394</td>\n",
       "      <td>2.153589</td>\n",
       "      <td>0.582044</td>\n",
       "      <td>16.341817</td>\n",
       "      <td>3.080167</td>\n",
       "      <td>21.705322</td>\n",
       "      <td>37.828641</td>\n",
       "      <td>7.836556</td>\n",
       "      <td>0.852143</td>\n",
       "      <td>1.254142</td>\n",
       "    </tr>\n",
       "    <tr>\n",
       "      <th>min</th>\n",
       "      <td>3.440000e+02</td>\n",
       "      <td>0.000000</td>\n",
       "      <td>1.000000</td>\n",
       "      <td>0.000000</td>\n",
       "      <td>0.000000</td>\n",
       "      <td>33.338905</td>\n",
       "      <td>-122.511500</td>\n",
       "      <td>0.000000</td>\n",
       "      <td>20.000000</td>\n",
       "      <td>0.000000</td>\n",
       "      <td>0.000000</td>\n",
       "    </tr>\n",
       "    <tr>\n",
       "      <th>25%</th>\n",
       "      <td>6.261964e+06</td>\n",
       "      <td>4.317488</td>\n",
       "      <td>2.000000</td>\n",
       "      <td>1.000000</td>\n",
       "      <td>100.000000</td>\n",
       "      <td>34.127908</td>\n",
       "      <td>-118.342374</td>\n",
       "      <td>1.000000</td>\n",
       "      <td>92.000000</td>\n",
       "      <td>1.000000</td>\n",
       "      <td>1.000000</td>\n",
       "    </tr>\n",
       "    <tr>\n",
       "      <th>50%</th>\n",
       "      <td>1.225415e+07</td>\n",
       "      <td>4.709530</td>\n",
       "      <td>2.000000</td>\n",
       "      <td>1.000000</td>\n",
       "      <td>100.000000</td>\n",
       "      <td>40.662138</td>\n",
       "      <td>-76.996965</td>\n",
       "      <td>6.000000</td>\n",
       "      <td>96.000000</td>\n",
       "      <td>1.000000</td>\n",
       "      <td>1.000000</td>\n",
       "    </tr>\n",
       "    <tr>\n",
       "      <th>75%</th>\n",
       "      <td>1.640226e+07</td>\n",
       "      <td>5.220356</td>\n",
       "      <td>4.000000</td>\n",
       "      <td>1.000000</td>\n",
       "      <td>100.000000</td>\n",
       "      <td>40.746096</td>\n",
       "      <td>-73.954660</td>\n",
       "      <td>23.000000</td>\n",
       "      <td>100.000000</td>\n",
       "      <td>1.000000</td>\n",
       "      <td>2.000000</td>\n",
       "    </tr>\n",
       "    <tr>\n",
       "      <th>max</th>\n",
       "      <td>2.123090e+07</td>\n",
       "      <td>7.600402</td>\n",
       "      <td>16.000000</td>\n",
       "      <td>8.000000</td>\n",
       "      <td>100.000000</td>\n",
       "      <td>42.390437</td>\n",
       "      <td>-70.985047</td>\n",
       "      <td>605.000000</td>\n",
       "      <td>100.000000</td>\n",
       "      <td>10.000000</td>\n",
       "      <td>18.000000</td>\n",
       "    </tr>\n",
       "  </tbody>\n",
       "</table>\n",
       "</div>"
      ],
      "text/plain": [
       "                 id     log_price  accommodates     bathrooms  \\\n",
       "count  7.411100e+04  74111.000000  74111.000000  73911.000000   \n",
       "mean   1.126662e+07      4.782069      3.155146      1.235263   \n",
       "std    6.081735e+06      0.717394      2.153589      0.582044   \n",
       "min    3.440000e+02      0.000000      1.000000      0.000000   \n",
       "25%    6.261964e+06      4.317488      2.000000      1.000000   \n",
       "50%    1.225415e+07      4.709530      2.000000      1.000000   \n",
       "75%    1.640226e+07      5.220356      4.000000      1.000000   \n",
       "max    2.123090e+07      7.600402     16.000000      8.000000   \n",
       "\n",
       "       host_response_rate      latitude     longitude  number_of_reviews  \\\n",
       "count        55812.000000  74111.000000  74111.000000       74111.000000   \n",
       "mean            94.351967     38.445958    -92.397525          20.900568   \n",
       "std             16.341817      3.080167     21.705322          37.828641   \n",
       "min              0.000000     33.338905   -122.511500           0.000000   \n",
       "25%            100.000000     34.127908   -118.342374           1.000000   \n",
       "50%            100.000000     40.662138    -76.996965           6.000000   \n",
       "75%            100.000000     40.746096    -73.954660          23.000000   \n",
       "max            100.000000     42.390437    -70.985047         605.000000   \n",
       "\n",
       "       review_scores_rating      bedrooms          beds  \n",
       "count          57389.000000  74020.000000  73980.000000  \n",
       "mean              94.067365      1.265793      1.710868  \n",
       "std                7.836556      0.852143      1.254142  \n",
       "min               20.000000      0.000000      0.000000  \n",
       "25%               92.000000      1.000000      1.000000  \n",
       "50%               96.000000      1.000000      1.000000  \n",
       "75%              100.000000      1.000000      2.000000  \n",
       "max              100.000000     10.000000     18.000000  "
      ]
     },
     "execution_count": 12,
     "metadata": {},
     "output_type": "execute_result"
    }
   ],
   "source": [
    "df.describe()"
   ]
  },
  {
   "cell_type": "markdown",
   "id": "18c61342-f8c5-4860-a9f9-e3a2f4ac937f",
   "metadata": {},
   "source": [
    "#### Findings\n",
    "\n",
    " * Log price is mostly distributed from 4.3 to 5.2 but the min value is 0 and exp(0) is 1 so minimum price is 1 unit only so it could be invalid.\n",
    " * Columns like **accomodates, bathrooms, number of reviews, bedrooms, beds** are showing very high maximum value but comparatively low value upto 75 percentile. Which basically means there are outliers in these columns. ***(Part- outliers detection)***\n",
    " * Minimum number of bathrooms is showing as 0, we should check the listing type for these rows (0 bathrooms) and how many zeros are there for such columns. If the listing is of **Single room/Private room/Shared room** then these zeros might be true else we will impute those zeros and missing values with  1 because most of properties have atleast 1 bathroom.\n",
    " * Data in number of reviews seems highly skewed by noticing mean and std. deviation. Value range is 0 to 605 and it can be problematic to fit model on such data. ***(Part - outliers detection)***\n",
    " * Review scores rating with mean 94 and median 96 is fine but we should handle missing values with median here.\n",
    " * In bedrooms and beds columns, minimum value is 0 and should be handled appropriately. We dont know if its a combine bedroom or not so categorical binning like yes/no could help here.\n",
    "\n",
    "##### As a next step, we will examine how many zero values are there for columns where zero might be invalid."
   ]
  },
  {
   "cell_type": "code",
   "execution_count": 14,
   "id": "0c5154bc-543b-4a03-8a11-b1a215176833",
   "metadata": {},
   "outputs": [
    {
     "data": {
      "text/plain": [
       "number_of_reviews       15819\n",
       "bedrooms                 6715\n",
       "host_response_rate        883\n",
       "bathrooms                 198\n",
       "beds                        4\n",
       "log_price                   1\n",
       "id                          0\n",
       "accommodates                0\n",
       "latitude                    0\n",
       "longitude                   0\n",
       "review_scores_rating        0\n",
       "dtype: int64"
      ]
     },
     "execution_count": 14,
     "metadata": {},
     "output_type": "execute_result"
    }
   ],
   "source": [
    "(df[numerical_cols] == 0).sum().sort_values(ascending= False)"
   ]
  },
  {
   "cell_type": "markdown",
   "id": "13f9af21-3c2e-42f1-8037-dbda6c017b97",
   "metadata": {},
   "source": [
    "####\n",
    "##### Examining the listing type if there are no bedrooms"
   ]
  },
  {
   "cell_type": "code",
   "execution_count": 16,
   "id": "f3702511-725d-4fea-a482-9d7ad06aeb3f",
   "metadata": {},
   "outputs": [
    {
     "data": {
      "text/html": [
       "<div>\n",
       "<style scoped>\n",
       "    .dataframe tbody tr th:only-of-type {\n",
       "        vertical-align: middle;\n",
       "    }\n",
       "\n",
       "    .dataframe tbody tr th {\n",
       "        vertical-align: top;\n",
       "    }\n",
       "\n",
       "    .dataframe thead th {\n",
       "        text-align: right;\n",
       "    }\n",
       "</style>\n",
       "<table border=\"1\" class=\"dataframe\">\n",
       "  <thead>\n",
       "    <tr style=\"text-align: right;\">\n",
       "      <th></th>\n",
       "      <th>room_type</th>\n",
       "      <th>bed_type</th>\n",
       "      <th>bedrooms</th>\n",
       "    </tr>\n",
       "  </thead>\n",
       "  <tbody>\n",
       "    <tr>\n",
       "      <th>4</th>\n",
       "      <td>Entire home/apt</td>\n",
       "      <td>Real Bed</td>\n",
       "      <td>0.0</td>\n",
       "    </tr>\n",
       "    <tr>\n",
       "      <th>55</th>\n",
       "      <td>Entire home/apt</td>\n",
       "      <td>Real Bed</td>\n",
       "      <td>0.0</td>\n",
       "    </tr>\n",
       "    <tr>\n",
       "      <th>64</th>\n",
       "      <td>Entire home/apt</td>\n",
       "      <td>Real Bed</td>\n",
       "      <td>0.0</td>\n",
       "    </tr>\n",
       "    <tr>\n",
       "      <th>69</th>\n",
       "      <td>Entire home/apt</td>\n",
       "      <td>Real Bed</td>\n",
       "      <td>0.0</td>\n",
       "    </tr>\n",
       "    <tr>\n",
       "      <th>96</th>\n",
       "      <td>Entire home/apt</td>\n",
       "      <td>Real Bed</td>\n",
       "      <td>0.0</td>\n",
       "    </tr>\n",
       "    <tr>\n",
       "      <th>...</th>\n",
       "      <td>...</td>\n",
       "      <td>...</td>\n",
       "      <td>...</td>\n",
       "    </tr>\n",
       "    <tr>\n",
       "      <th>74086</th>\n",
       "      <td>Private room</td>\n",
       "      <td>Real Bed</td>\n",
       "      <td>0.0</td>\n",
       "    </tr>\n",
       "    <tr>\n",
       "      <th>74087</th>\n",
       "      <td>Entire home/apt</td>\n",
       "      <td>Real Bed</td>\n",
       "      <td>0.0</td>\n",
       "    </tr>\n",
       "    <tr>\n",
       "      <th>74091</th>\n",
       "      <td>Entire home/apt</td>\n",
       "      <td>Real Bed</td>\n",
       "      <td>0.0</td>\n",
       "    </tr>\n",
       "    <tr>\n",
       "      <th>74098</th>\n",
       "      <td>Entire home/apt</td>\n",
       "      <td>Real Bed</td>\n",
       "      <td>0.0</td>\n",
       "    </tr>\n",
       "    <tr>\n",
       "      <th>74109</th>\n",
       "      <td>Entire home/apt</td>\n",
       "      <td>Real Bed</td>\n",
       "      <td>0.0</td>\n",
       "    </tr>\n",
       "  </tbody>\n",
       "</table>\n",
       "<p>6715 rows × 3 columns</p>\n",
       "</div>"
      ],
      "text/plain": [
       "             room_type  bed_type  bedrooms\n",
       "4      Entire home/apt  Real Bed       0.0\n",
       "55     Entire home/apt  Real Bed       0.0\n",
       "64     Entire home/apt  Real Bed       0.0\n",
       "69     Entire home/apt  Real Bed       0.0\n",
       "96     Entire home/apt  Real Bed       0.0\n",
       "...                ...       ...       ...\n",
       "74086     Private room  Real Bed       0.0\n",
       "74087  Entire home/apt  Real Bed       0.0\n",
       "74091  Entire home/apt  Real Bed       0.0\n",
       "74098  Entire home/apt  Real Bed       0.0\n",
       "74109  Entire home/apt  Real Bed       0.0\n",
       "\n",
       "[6715 rows x 3 columns]"
      ]
     },
     "execution_count": 16,
     "metadata": {},
     "output_type": "execute_result"
    }
   ],
   "source": [
    "df[df['bedrooms'] == 0][['room_type','bed_type', 'bedrooms']]"
   ]
  },
  {
   "cell_type": "code",
   "execution_count": 17,
   "id": "eefe0bf7-14fe-4ba7-9744-3de380ec1bda",
   "metadata": {},
   "outputs": [
    {
     "data": {
      "text/plain": [
       "room_type    2\n",
       "bed_type     5\n",
       "bedrooms     1\n",
       "dtype: int64"
      ]
     },
     "execution_count": 17,
     "metadata": {},
     "output_type": "execute_result"
    }
   ],
   "source": [
    "room_bed = df[df['bedrooms'] == 0][['room_type','bed_type', 'bedrooms']]\n",
    "room_bed.nunique()"
   ]
  },
  {
   "cell_type": "markdown",
   "id": "27202df8-a85e-4b80-ba94-7af864651fbc",
   "metadata": {},
   "source": [
    "####\n",
    "##### Examining the listing type if there are no bathrooms"
   ]
  },
  {
   "cell_type": "code",
   "execution_count": 19,
   "id": "ef539034-c0bf-406a-b3c4-cf6341ac1c59",
   "metadata": {},
   "outputs": [
    {
     "data": {
      "text/html": [
       "<div>\n",
       "<style scoped>\n",
       "    .dataframe tbody tr th:only-of-type {\n",
       "        vertical-align: middle;\n",
       "    }\n",
       "\n",
       "    .dataframe tbody tr th {\n",
       "        vertical-align: top;\n",
       "    }\n",
       "\n",
       "    .dataframe thead th {\n",
       "        text-align: right;\n",
       "    }\n",
       "</style>\n",
       "<table border=\"1\" class=\"dataframe\">\n",
       "  <thead>\n",
       "    <tr style=\"text-align: right;\">\n",
       "      <th></th>\n",
       "      <th>room_type</th>\n",
       "      <th>bathrooms</th>\n",
       "    </tr>\n",
       "  </thead>\n",
       "  <tbody>\n",
       "    <tr>\n",
       "      <th>318</th>\n",
       "      <td>Private room</td>\n",
       "      <td>0.0</td>\n",
       "    </tr>\n",
       "    <tr>\n",
       "      <th>1356</th>\n",
       "      <td>Shared room</td>\n",
       "      <td>0.0</td>\n",
       "    </tr>\n",
       "    <tr>\n",
       "      <th>1441</th>\n",
       "      <td>Private room</td>\n",
       "      <td>0.0</td>\n",
       "    </tr>\n",
       "    <tr>\n",
       "      <th>1704</th>\n",
       "      <td>Private room</td>\n",
       "      <td>0.0</td>\n",
       "    </tr>\n",
       "    <tr>\n",
       "      <th>1819</th>\n",
       "      <td>Private room</td>\n",
       "      <td>0.0</td>\n",
       "    </tr>\n",
       "    <tr>\n",
       "      <th>...</th>\n",
       "      <td>...</td>\n",
       "      <td>...</td>\n",
       "    </tr>\n",
       "    <tr>\n",
       "      <th>72781</th>\n",
       "      <td>Private room</td>\n",
       "      <td>0.0</td>\n",
       "    </tr>\n",
       "    <tr>\n",
       "      <th>72920</th>\n",
       "      <td>Private room</td>\n",
       "      <td>0.0</td>\n",
       "    </tr>\n",
       "    <tr>\n",
       "      <th>73077</th>\n",
       "      <td>Private room</td>\n",
       "      <td>0.0</td>\n",
       "    </tr>\n",
       "    <tr>\n",
       "      <th>73301</th>\n",
       "      <td>Shared room</td>\n",
       "      <td>0.0</td>\n",
       "    </tr>\n",
       "    <tr>\n",
       "      <th>73467</th>\n",
       "      <td>Private room</td>\n",
       "      <td>0.0</td>\n",
       "    </tr>\n",
       "  </tbody>\n",
       "</table>\n",
       "<p>198 rows × 2 columns</p>\n",
       "</div>"
      ],
      "text/plain": [
       "          room_type  bathrooms\n",
       "318    Private room        0.0\n",
       "1356    Shared room        0.0\n",
       "1441   Private room        0.0\n",
       "1704   Private room        0.0\n",
       "1819   Private room        0.0\n",
       "...             ...        ...\n",
       "72781  Private room        0.0\n",
       "72920  Private room        0.0\n",
       "73077  Private room        0.0\n",
       "73301   Shared room        0.0\n",
       "73467  Private room        0.0\n",
       "\n",
       "[198 rows x 2 columns]"
      ]
     },
     "execution_count": 19,
     "metadata": {},
     "output_type": "execute_result"
    }
   ],
   "source": [
    "df[df['bathrooms'] == 0][['room_type', 'bathrooms']]"
   ]
  },
  {
   "cell_type": "markdown",
   "id": "03a02763-9efe-47b1-814e-1098149d5d69",
   "metadata": {},
   "source": [
    " * Log price has only 1 row with zero value so we will drop it.\n",
    " * bedrooms column with large number of zeros could mean the listings are of combined room type and are still rentable so we examined the data having bedrooms=0,\n",
    "    * we can notice that there are two uniqe values in room_type for bedrooms = 0 (Entire home/apt , Private room)\n",
    "    * Even though the room type is **Entire home/apt** there are no bedrooms (seems irrelevant) so we can replace these zeros with median value and create a new flagging column for these zeros.\n",
    " * We examined those listings having zero bathrooms and our previous guess is right that these zeros are true because those rooms are private and shared room type. So we will keep it as is.\n",
    " * Huge count of zeros in number of reviews but it only means no reviews so we will keep it as is.\n",
    " * small count of zeros in beds column can be replaced with median value."
   ]
  },
  {
   "cell_type": "markdown",
   "id": "1a5032d4-f282-4bd7-8972-351086bde234",
   "metadata": {},
   "source": [
    "### Outliers Checking\n",
    "\n",
    "Now we will perform outliers detection for above numerical data columns. We will choose only relevant columns which are subject to distribution. (removing longitude, latitude, etc.)"
   ]
  },
  {
   "cell_type": "code",
   "execution_count": 22,
   "id": "5aa66621-9c32-4c54-922b-6a73de5dcd47",
   "metadata": {},
   "outputs": [
    {
     "data": {
      "image/png": "[encoded data removed]",
      "text/plain": [
       "<Figure size 1000x800 with 8 Axes>"
      ]
     },
     "metadata": {},
     "output_type": "display_data"
    }
   ],
   "source": [
    "numerical_cols = ['log_price', 'accommodates', 'bathrooms', 'host_response_rate', 'number_of_reviews', 'review_scores_rating', 'bedrooms', 'beds']\n",
    "\n",
    "plt.figure(figsize = (10,8))\n",
    "for i, col in enumerate(numerical_cols):\n",
    "    plt.subplot(2,4, i+1)\n",
    "    sns.boxplot(df[col])\n",
    "    plt.title(col)\n",
    "plt.tight_layout()\n",
    "plt.show()"
   ]
  },
  {
   "cell_type": "markdown",
   "id": "050963fd-5bae-48ca-84f1-a1f42e03ab8c",
   "metadata": {},
   "source": [
    "#### Findings\n",
    "\n",
    " * In above boxplots, we can notice potential outliers in each numerical column.\n",
    " * Even though there are outliers in columns accomodates, bathrooms, bedrooms and beds, those may be valid because these extreme data show availability of large listings. So we mark them as contextual outliers.\n",
    " * Outliers in 'host_response_rate' could mean there are some low ratings and most of the data is distributed near 100 showing high number of  ratings.\n",
    " * It is very challenging part to handle these outliers because we have to define which method should be applied on each column. Some of these columns need standardization and scale transformation. So as a better option I am using Log1p transformation here."
   ]
  },
  {
   "cell_type": "markdown",
   "id": "b2ea292e-bd44-4a68-a114-a1dc0ea54060",
   "metadata": {},
   "source": [
    "### Missing Values Analysis"
   ]
  },
  {
   "cell_type": "code",
   "execution_count": 25,
   "id": "a94d9e10-0f60-4c7a-bdca-8d3e5017d703",
   "metadata": {},
   "outputs": [
    {
     "name": "stdout",
     "output_type": "stream",
     "text": [
      "                        Missing Count  Missing %\n",
      "host_response_rate              18299  24.691341\n",
      "review_scores_rating            16722  22.563452\n",
      "first_review                    15864  21.405729\n",
      "last_review                     15827  21.355804\n",
      "thumbnail_url                    8216  11.086074\n",
      "neighbourhood                    6872   9.272578\n",
      "zipcode                           968   1.306149\n",
      "bathrooms                         200   0.269865\n",
      "host_identity_verified            188   0.253674\n",
      "host_since                        188   0.253674\n",
      "host_has_profile_pic              188   0.253674\n",
      "beds                              131   0.176762\n",
      "bedrooms                           91   0.122789\n"
     ]
    }
   ],
   "source": [
    "missing = df.isnull().sum().sort_values(ascending=False)\n",
    "missing_percentage = (missing / len(df)) * 100\n",
    "missing_df = pd.DataFrame({'Missing Count': missing, 'Missing %': missing_percentage})\n",
    "print(missing_df[missing_df['Missing Count'] > 0])"
   ]
  },
  {
   "cell_type": "markdown",
   "id": "b5752401-b54a-402e-99fb-ba8f7fe11461",
   "metadata": {},
   "source": [
    "### Findings\n",
    "\n",
    " * There are 4 columns with more than 20% missing values which can be problematic as such proportion of missing values may statistically affect our analysis. These 4 columns are providing information about ratings and reviews and it is important to predict pricing. This blank information shows that hosts are not actively responsing and reviewing.\n",
    " * We should examine if the missing value is really a missing or absence of category."
   ]
  },
  {
   "cell_type": "markdown",
   "id": "7a643376-86f2-46c2-aad7-8027ea33d5e0",
   "metadata": {},
   "source": [
    "#### Visualizing Missing Values and Checking Data/Labels"
   ]
  },
  {
   "cell_type": "code",
   "execution_count": 28,
   "id": "f5942447-a2c1-4bb2-8000-d53fb288ee3c",
   "metadata": {},
   "outputs": [
    {
     "data": {
      "image/png": "[encoded data removed]",
      "text/plain": [
       "<Figure size 1200x600 with 2 Axes>"
      ]
     },
     "metadata": {},
     "output_type": "display_data"
    }
   ],
   "source": [
    "plt.figure(figsize = (12,6))\n",
    "sns.heatmap(df[missing[missing > 0].index].isnull())\n",
    "plt.show()"
   ]
  },
  {
   "cell_type": "code",
   "execution_count": 29,
   "id": "8cc23e8c-f43a-4d40-894c-b3582dd7e284",
   "metadata": {},
   "outputs": [
    {
     "data": {
      "text/html": [
       "<div>\n",
       "<style scoped>\n",
       "    .dataframe tbody tr th:only-of-type {\n",
       "        vertical-align: middle;\n",
       "    }\n",
       "\n",
       "    .dataframe tbody tr th {\n",
       "        vertical-align: top;\n",
       "    }\n",
       "\n",
       "    .dataframe thead th {\n",
       "        text-align: right;\n",
       "    }\n",
       "</style>\n",
       "<table border=\"1\" class=\"dataframe\">\n",
       "  <thead>\n",
       "    <tr style=\"text-align: right;\">\n",
       "      <th></th>\n",
       "      <th>host_response_rate</th>\n",
       "      <th>review_scores_rating</th>\n",
       "      <th>first_review</th>\n",
       "      <th>last_review</th>\n",
       "      <th>thumbnail_url</th>\n",
       "      <th>neighbourhood</th>\n",
       "      <th>zipcode</th>\n",
       "      <th>bathrooms</th>\n",
       "      <th>host_identity_verified</th>\n",
       "      <th>host_since</th>\n",
       "      <th>host_has_profile_pic</th>\n",
       "      <th>beds</th>\n",
       "      <th>bedrooms</th>\n",
       "    </tr>\n",
       "  </thead>\n",
       "  <tbody>\n",
       "    <tr>\n",
       "      <th>0</th>\n",
       "      <td>NaN</td>\n",
       "      <td>100.0</td>\n",
       "      <td>18-06-2016</td>\n",
       "      <td>18-07-2016</td>\n",
       "      <td>https://a0.muscache.com/im/pictures/6d7cbbf7-c...</td>\n",
       "      <td>Brooklyn Heights</td>\n",
       "      <td>11201</td>\n",
       "      <td>1.0</td>\n",
       "      <td>t</td>\n",
       "      <td>26-03-2012</td>\n",
       "      <td>t</td>\n",
       "      <td>1.0</td>\n",
       "      <td>1.0</td>\n",
       "    </tr>\n",
       "    <tr>\n",
       "      <th>1</th>\n",
       "      <td>100.0</td>\n",
       "      <td>93.0</td>\n",
       "      <td>05-08-2017</td>\n",
       "      <td>23-09-2017</td>\n",
       "      <td>https://a0.muscache.com/im/pictures/348a55fe-4...</td>\n",
       "      <td>Hell's Kitchen</td>\n",
       "      <td>10019</td>\n",
       "      <td>1.0</td>\n",
       "      <td>f</td>\n",
       "      <td>19-06-2017</td>\n",
       "      <td>t</td>\n",
       "      <td>3.0</td>\n",
       "      <td>3.0</td>\n",
       "    </tr>\n",
       "    <tr>\n",
       "      <th>2</th>\n",
       "      <td>100.0</td>\n",
       "      <td>92.0</td>\n",
       "      <td>30-04-2017</td>\n",
       "      <td>14-09-2017</td>\n",
       "      <td>https://a0.muscache.com/im/pictures/6fae5362-9...</td>\n",
       "      <td>Harlem</td>\n",
       "      <td>10027</td>\n",
       "      <td>1.0</td>\n",
       "      <td>t</td>\n",
       "      <td>25-10-2016</td>\n",
       "      <td>t</td>\n",
       "      <td>3.0</td>\n",
       "      <td>1.0</td>\n",
       "    </tr>\n",
       "    <tr>\n",
       "      <th>3</th>\n",
       "      <td>NaN</td>\n",
       "      <td>NaN</td>\n",
       "      <td>NaN</td>\n",
       "      <td>NaN</td>\n",
       "      <td>https://a0.muscache.com/im/pictures/72208dad-9...</td>\n",
       "      <td>Lower Haight</td>\n",
       "      <td>94117</td>\n",
       "      <td>1.0</td>\n",
       "      <td>t</td>\n",
       "      <td>19-04-2015</td>\n",
       "      <td>t</td>\n",
       "      <td>2.0</td>\n",
       "      <td>2.0</td>\n",
       "    </tr>\n",
       "    <tr>\n",
       "      <th>4</th>\n",
       "      <td>100.0</td>\n",
       "      <td>40.0</td>\n",
       "      <td>12-05-2015</td>\n",
       "      <td>22-01-2017</td>\n",
       "      <td>NaN</td>\n",
       "      <td>Columbia Heights</td>\n",
       "      <td>20009</td>\n",
       "      <td>1.0</td>\n",
       "      <td>t</td>\n",
       "      <td>01-03-2015</td>\n",
       "      <td>t</td>\n",
       "      <td>1.0</td>\n",
       "      <td>0.0</td>\n",
       "    </tr>\n",
       "  </tbody>\n",
       "</table>\n",
       "</div>"
      ],
      "text/plain": [
       "   host_response_rate  review_scores_rating first_review last_review  \\\n",
       "0                 NaN                 100.0   18-06-2016  18-07-2016   \n",
       "1               100.0                  93.0   05-08-2017  23-09-2017   \n",
       "2               100.0                  92.0   30-04-2017  14-09-2017   \n",
       "3                 NaN                   NaN          NaN         NaN   \n",
       "4               100.0                  40.0   12-05-2015  22-01-2017   \n",
       "\n",
       "                                       thumbnail_url     neighbourhood  \\\n",
       "0  https://a0.muscache.com/im/pictures/6d7cbbf7-c...  Brooklyn Heights   \n",
       "1  https://a0.muscache.com/im/pictures/348a55fe-4...    Hell's Kitchen   \n",
       "2  https://a0.muscache.com/im/pictures/6fae5362-9...            Harlem   \n",
       "3  https://a0.muscache.com/im/pictures/72208dad-9...      Lower Haight   \n",
       "4                                                NaN  Columbia Heights   \n",
       "\n",
       "  zipcode  bathrooms host_identity_verified  host_since host_has_profile_pic  \\\n",
       "0   11201        1.0                      t  26-03-2012                    t   \n",
       "1   10019        1.0                      f  19-06-2017                    t   \n",
       "2   10027        1.0                      t  25-10-2016                    t   \n",
       "3   94117        1.0                      t  19-04-2015                    t   \n",
       "4   20009        1.0                      t  01-03-2015                    t   \n",
       "\n",
       "   beds  bedrooms  \n",
       "0   1.0       1.0  \n",
       "1   3.0       3.0  \n",
       "2   3.0       1.0  \n",
       "3   2.0       2.0  \n",
       "4   1.0       0.0  "
      ]
     },
     "execution_count": 29,
     "metadata": {},
     "output_type": "execute_result"
    }
   ],
   "source": [
    "df[list(missing_df[missing_df['Missing Count'] > 0].index)].head()"
   ]
  },
  {
   "cell_type": "markdown",
   "id": "2b172813-fd8a-4891-9293-dbd5afc0f068",
   "metadata": {},
   "source": [
    "### Conclusion\n",
    "\n",
    "* **host_response_rate** - The column is converted into float type, showing host's response rate as percentage. As this column shows data integration near value 100 therefore we can impute missing values with median value directly.\n",
    "* **review_scores_rating** - These are average review scores means average of all ratings and null values here only mean that there are no reviews. We can also validate this with number of reviews column. So we can replace null values with zero.\n",
    "* **first_review** & **last_review** - From visualization and sample data we can notice that first review and last review both are missing for same row same time showing if the listing is never reviewed. Both these columns have date data so we can not directly impute these missing values instead we can create a new column with help of these columns and then drop it. **(part of feature engineering)**\n",
    "* **thumbnail_url** - This column is irrelevant for our analysis and we will drop it.\n",
    "* **neighbourhood** - Gives the information about the location and have 9% missing values. We have two option here - imputing with mode or create a new category. By imputing mode our model will assume missing as typical area and could be biased. I will decide to create new category based on category encoding criteria. **(part of feature engineering)**\n",
    "* **zipcode** - Zipcodes are in numbers but we have to take those as categories because they are only related to location information. We will process this column same as neighbourhood column.\n",
    "* **bathrooms** - This column has low number of missing values and imputing with median which is 01 bathroom wont affect the distribution much.\n",
    "* **host_identity_verified** - This one column also is of categorical type so we will impute missing values with a numerical placeholder \"-1\" and then perform encoding. So using -1 will not lead to any inherent order in this column.(like -1<0)\n",
    "* **host_since** - A date column showing when the host joined Airbnb, we can not directly impute these type of information. But one thing is clear that joining date is obviously before first review date so imputing first review date may help here (it might slighty affect but its better than directly imputing other values). Then we will create a new feature. **(part of feature engineering)**\n",
    "* **host_has_profile_pic** - We will process this column same as host_identity_verified column.\n",
    "* **beds** and **bedrooms** - Thess columns have low number of missing values and imputing with median which is 01 bed/bedroom wont affect the distribution much."
   ]
  },
  {
   "cell_type": "markdown",
   "id": "bfba16e6-1088-43e7-a3ae-ce693b325d37",
   "metadata": {},
   "source": [
    "##### Let us cross validate null values in review_scores_rating with following columns"
   ]
  },
  {
   "cell_type": "code",
   "execution_count": 32,
   "id": "819d740e-9850-4d55-87c9-3bc635d5b502",
   "metadata": {},
   "outputs": [
    {
     "data": {
      "text/html": [
       "<div>\n",
       "<style scoped>\n",
       "    .dataframe tbody tr th:only-of-type {\n",
       "        vertical-align: middle;\n",
       "    }\n",
       "\n",
       "    .dataframe tbody tr th {\n",
       "        vertical-align: top;\n",
       "    }\n",
       "\n",
       "    .dataframe thead th {\n",
       "        text-align: right;\n",
       "    }\n",
       "</style>\n",
       "<table border=\"1\" class=\"dataframe\">\n",
       "  <thead>\n",
       "    <tr style=\"text-align: right;\">\n",
       "      <th></th>\n",
       "      <th>first_review</th>\n",
       "      <th>last_review</th>\n",
       "      <th>number_of_reviews</th>\n",
       "      <th>review_scores_rating</th>\n",
       "    </tr>\n",
       "  </thead>\n",
       "  <tbody>\n",
       "    <tr>\n",
       "      <th>3</th>\n",
       "      <td>NaN</td>\n",
       "      <td>NaN</td>\n",
       "      <td>0</td>\n",
       "      <td>NaN</td>\n",
       "    </tr>\n",
       "    <tr>\n",
       "      <th>12</th>\n",
       "      <td>NaN</td>\n",
       "      <td>NaN</td>\n",
       "      <td>0</td>\n",
       "      <td>NaN</td>\n",
       "    </tr>\n",
       "    <tr>\n",
       "      <th>15</th>\n",
       "      <td>NaN</td>\n",
       "      <td>NaN</td>\n",
       "      <td>0</td>\n",
       "      <td>NaN</td>\n",
       "    </tr>\n",
       "    <tr>\n",
       "      <th>24</th>\n",
       "      <td>NaN</td>\n",
       "      <td>NaN</td>\n",
       "      <td>0</td>\n",
       "      <td>NaN</td>\n",
       "    </tr>\n",
       "    <tr>\n",
       "      <th>31</th>\n",
       "      <td>NaN</td>\n",
       "      <td>NaN</td>\n",
       "      <td>0</td>\n",
       "      <td>NaN</td>\n",
       "    </tr>\n",
       "    <tr>\n",
       "      <th>...</th>\n",
       "      <td>...</td>\n",
       "      <td>...</td>\n",
       "      <td>...</td>\n",
       "      <td>...</td>\n",
       "    </tr>\n",
       "    <tr>\n",
       "      <th>74083</th>\n",
       "      <td>NaN</td>\n",
       "      <td>NaN</td>\n",
       "      <td>0</td>\n",
       "      <td>NaN</td>\n",
       "    </tr>\n",
       "    <tr>\n",
       "      <th>74089</th>\n",
       "      <td>NaN</td>\n",
       "      <td>NaN</td>\n",
       "      <td>0</td>\n",
       "      <td>NaN</td>\n",
       "    </tr>\n",
       "    <tr>\n",
       "      <th>74095</th>\n",
       "      <td>NaN</td>\n",
       "      <td>NaN</td>\n",
       "      <td>0</td>\n",
       "      <td>NaN</td>\n",
       "    </tr>\n",
       "    <tr>\n",
       "      <th>74106</th>\n",
       "      <td>NaN</td>\n",
       "      <td>NaN</td>\n",
       "      <td>0</td>\n",
       "      <td>NaN</td>\n",
       "    </tr>\n",
       "    <tr>\n",
       "      <th>74109</th>\n",
       "      <td>NaN</td>\n",
       "      <td>NaN</td>\n",
       "      <td>0</td>\n",
       "      <td>NaN</td>\n",
       "    </tr>\n",
       "  </tbody>\n",
       "</table>\n",
       "<p>16722 rows × 4 columns</p>\n",
       "</div>"
      ],
      "text/plain": [
       "      first_review last_review  number_of_reviews  review_scores_rating\n",
       "3              NaN         NaN                  0                   NaN\n",
       "12             NaN         NaN                  0                   NaN\n",
       "15             NaN         NaN                  0                   NaN\n",
       "24             NaN         NaN                  0                   NaN\n",
       "31             NaN         NaN                  0                   NaN\n",
       "...            ...         ...                ...                   ...\n",
       "74083          NaN         NaN                  0                   NaN\n",
       "74089          NaN         NaN                  0                   NaN\n",
       "74095          NaN         NaN                  0                   NaN\n",
       "74106          NaN         NaN                  0                   NaN\n",
       "74109          NaN         NaN                  0                   NaN\n",
       "\n",
       "[16722 rows x 4 columns]"
      ]
     },
     "execution_count": 32,
     "metadata": {},
     "output_type": "execute_result"
    }
   ],
   "source": [
    "df[df[\"review_scores_rating\"].isnull()][['first_review', 'last_review', 'number_of_reviews', 'review_scores_rating']]"
   ]
  },
  {
   "cell_type": "markdown",
   "id": "c3ac1fb7-6590-4fd2-998d-99e51c11f7bc",
   "metadata": {},
   "source": [
    " * As we can notice here, if there is no review then these four columns are null. So we can now go with our logic of creating new features. (**Part of feature engineering**)"
   ]
  },
  {
   "cell_type": "markdown",
   "id": "de06739a-0c9d-4f70-a7bc-bd8b46576afa",
   "metadata": {},
   "source": [
    "### Analysing the dataset for trends\n",
    "\n",
    " We can analyse trends, patterns and relationships between our columns using groupby or aggregation methods but It is better to visualize this type of information with the help of scatterplots or pairplots."
   ]
  },
  {
   "cell_type": "code",
   "execution_count": 35,
   "id": "cbc6b787-5ce7-4f06-83b2-8b8223f541b3",
   "metadata": {},
   "outputs": [],
   "source": [
    "#sns.pairplot(df)\n",
    "#plt.show()"
   ]
  },
  {
   "cell_type": "markdown",
   "id": "57d49d8a-7c9b-4d91-9028-3288f925686f",
   "metadata": {},
   "source": [
    "#### Conclusion\n",
    " * There are not any strong relations with response variable but some of the plots are showing a linear relation with noise.\n",
    " * This is because most of these features are still unprocessed and some of them are categorical values.\n",
    " * As a part of EDA its good for spotting raw data issues but final relation matrix after feature engineering will be more reliable for correlation & relationship analysis."
   ]
  },
  {
   "cell_type": "markdown",
   "id": "d485846a-f41b-4949-ad26-b5e04b64fb88",
   "metadata": {},
   "source": [
    "## Handling Invalid Values and Missing Value Imputation\n",
    "\n",
    " * Based on previously conducted missing value analysis, we will handle missing values for following columns. All the remaining columns will be processed in feature engineering.\n",
    "\n",
    " * Categorical : (\"Missing\" label and \"-1\" as a placeholder for null)\n",
    "    - neighbourhood \n",
    "    - zipcode \n",
    "    - host_identity_verified\n",
    "    - host_has_profile_pic\n",
    "\n",
    "      \n",
    " * Numerical : (Median value for null)\n",
    "    - host_response_rate\n",
    "    - review_scores_rating *(zero/0 for null)*\n",
    "    - bathrooms \n",
    "    - beds\n",
    "    - bedrooms\n",
    " * For now on, we will create a new copy of the original dataset for further analysis.\n",
    "\n",
    " * Also we will drop unnecessary columns (id, description, name and thumbnail_url) before starting further analysis.\n",
    "\n",
    " * For columns like bathrooms, bedrooms and beds, we will convert continuous values into discrete that is float into integer."
   ]
  },
  {
   "cell_type": "markdown",
   "id": "14ff54ca-0a91-41af-8e28-0a1242972cf5",
   "metadata": {},
   "source": [
    "######\n",
    "##### Removing unnecessary columns"
   ]
  },
  {
   "cell_type": "code",
   "execution_count": 39,
   "id": "82825e5c-8282-413c-aecf-602775f100c8",
   "metadata": {},
   "outputs": [
    {
     "name": "stdout",
     "output_type": "stream",
     "text": [
      "(74111, 29)\n",
      "(74110, 25)\n"
     ]
    }
   ],
   "source": [
    "df_feat = df.drop(['id', 'description', 'name', 'thumbnail_url'], axis = 1)\n",
    "df_feat = df_feat[df_feat[\"log_price\"] != 0]\n",
    "print(df.shape)\n",
    "print(df_feat.shape)"
   ]
  },
  {
   "cell_type": "markdown",
   "id": "9786d2e7-676b-4ce1-aadd-97ccbd9c157a",
   "metadata": {},
   "source": [
    "######\n",
    "##### Checking continuous values in following columns"
   ]
  },
  {
   "cell_type": "code",
   "execution_count": 41,
   "id": "32194654-dea2-4b52-b051-398b36005659",
   "metadata": {},
   "outputs": [
    {
     "data": {
      "text/html": [
       "<div>\n",
       "<style scoped>\n",
       "    .dataframe tbody tr th:only-of-type {\n",
       "        vertical-align: middle;\n",
       "    }\n",
       "\n",
       "    .dataframe tbody tr th {\n",
       "        vertical-align: top;\n",
       "    }\n",
       "\n",
       "    .dataframe thead th {\n",
       "        text-align: right;\n",
       "    }\n",
       "</style>\n",
       "<table border=\"1\" class=\"dataframe\">\n",
       "  <thead>\n",
       "    <tr style=\"text-align: right;\">\n",
       "      <th></th>\n",
       "      <th>log_price</th>\n",
       "      <th>property_type</th>\n",
       "      <th>room_type</th>\n",
       "      <th>amenities</th>\n",
       "      <th>accommodates</th>\n",
       "      <th>bathrooms</th>\n",
       "      <th>bed_type</th>\n",
       "      <th>cancellation_policy</th>\n",
       "      <th>cleaning_fee</th>\n",
       "      <th>city</th>\n",
       "      <th>...</th>\n",
       "      <th>instant_bookable</th>\n",
       "      <th>last_review</th>\n",
       "      <th>latitude</th>\n",
       "      <th>longitude</th>\n",
       "      <th>neighbourhood</th>\n",
       "      <th>number_of_reviews</th>\n",
       "      <th>review_scores_rating</th>\n",
       "      <th>zipcode</th>\n",
       "      <th>bedrooms</th>\n",
       "      <th>beds</th>\n",
       "    </tr>\n",
       "  </thead>\n",
       "  <tbody>\n",
       "    <tr>\n",
       "      <th>11</th>\n",
       "      <td>5.010635</td>\n",
       "      <td>House</td>\n",
       "      <td>Entire home/apt</td>\n",
       "      <td>{TV,\"Cable TV\",Internet,\"Wireless Internet\",Ki...</td>\n",
       "      <td>4</td>\n",
       "      <td>1.5</td>\n",
       "      <td>Real Bed</td>\n",
       "      <td>strict</td>\n",
       "      <td>True</td>\n",
       "      <td>LA</td>\n",
       "      <td>...</td>\n",
       "      <td>f</td>\n",
       "      <td>18-11-2016</td>\n",
       "      <td>33.875862</td>\n",
       "      <td>-118.403293</td>\n",
       "      <td>Hermosa Beach</td>\n",
       "      <td>29</td>\n",
       "      <td>97.0</td>\n",
       "      <td>90254</td>\n",
       "      <td>2.0</td>\n",
       "      <td>2.0</td>\n",
       "    </tr>\n",
       "    <tr>\n",
       "      <th>13</th>\n",
       "      <td>5.298317</td>\n",
       "      <td>Apartment</td>\n",
       "      <td>Entire home/apt</td>\n",
       "      <td>{TV,\"Cable TV\",Internet,\"Wireless Internet\",\"A...</td>\n",
       "      <td>6</td>\n",
       "      <td>1.5</td>\n",
       "      <td>Real Bed</td>\n",
       "      <td>strict</td>\n",
       "      <td>True</td>\n",
       "      <td>DC</td>\n",
       "      <td>...</td>\n",
       "      <td>t</td>\n",
       "      <td>30-04-2017</td>\n",
       "      <td>38.919630</td>\n",
       "      <td>-77.031189</td>\n",
       "      <td>U Street Corridor</td>\n",
       "      <td>13</td>\n",
       "      <td>89.0</td>\n",
       "      <td>20009</td>\n",
       "      <td>2.0</td>\n",
       "      <td>3.0</td>\n",
       "    </tr>\n",
       "    <tr>\n",
       "      <th>15</th>\n",
       "      <td>4.094345</td>\n",
       "      <td>Apartment</td>\n",
       "      <td>Private room</td>\n",
       "      <td>{Internet,\"Wireless Internet\",\"Air conditionin...</td>\n",
       "      <td>2</td>\n",
       "      <td>1.5</td>\n",
       "      <td>Real Bed</td>\n",
       "      <td>moderate</td>\n",
       "      <td>True</td>\n",
       "      <td>Chicago</td>\n",
       "      <td>...</td>\n",
       "      <td>f</td>\n",
       "      <td>NaN</td>\n",
       "      <td>41.908240</td>\n",
       "      <td>-87.695242</td>\n",
       "      <td>Humboldt Park</td>\n",
       "      <td>0</td>\n",
       "      <td>NaN</td>\n",
       "      <td>60622</td>\n",
       "      <td>1.0</td>\n",
       "      <td>1.0</td>\n",
       "    </tr>\n",
       "    <tr>\n",
       "      <th>21</th>\n",
       "      <td>3.688879</td>\n",
       "      <td>House</td>\n",
       "      <td>Private room</td>\n",
       "      <td>{Internet,\"Air conditioning\",Kitchen,\"Smoking ...</td>\n",
       "      <td>2</td>\n",
       "      <td>1.5</td>\n",
       "      <td>Real Bed</td>\n",
       "      <td>strict</td>\n",
       "      <td>True</td>\n",
       "      <td>NYC</td>\n",
       "      <td>...</td>\n",
       "      <td>f</td>\n",
       "      <td>22-09-2017</td>\n",
       "      <td>40.656278</td>\n",
       "      <td>-73.922645</td>\n",
       "      <td>East Flatbush</td>\n",
       "      <td>57</td>\n",
       "      <td>89.0</td>\n",
       "      <td>11212</td>\n",
       "      <td>1.0</td>\n",
       "      <td>1.0</td>\n",
       "    </tr>\n",
       "    <tr>\n",
       "      <th>33</th>\n",
       "      <td>4.488636</td>\n",
       "      <td>House</td>\n",
       "      <td>Private room</td>\n",
       "      <td>{Internet,\"Wireless Internet\",Kitchen,\"Pets li...</td>\n",
       "      <td>1</td>\n",
       "      <td>NaN</td>\n",
       "      <td>Real Bed</td>\n",
       "      <td>moderate</td>\n",
       "      <td>True</td>\n",
       "      <td>LA</td>\n",
       "      <td>...</td>\n",
       "      <td>f</td>\n",
       "      <td>16-11-2016</td>\n",
       "      <td>34.086338</td>\n",
       "      <td>-118.364778</td>\n",
       "      <td>West Hollywood</td>\n",
       "      <td>46</td>\n",
       "      <td>99.0</td>\n",
       "      <td>90046</td>\n",
       "      <td>1.0</td>\n",
       "      <td>1.0</td>\n",
       "    </tr>\n",
       "  </tbody>\n",
       "</table>\n",
       "<p>5 rows × 25 columns</p>\n",
       "</div>"
      ],
      "text/plain": [
       "    log_price property_type        room_type  \\\n",
       "11   5.010635         House  Entire home/apt   \n",
       "13   5.298317     Apartment  Entire home/apt   \n",
       "15   4.094345     Apartment     Private room   \n",
       "21   3.688879         House     Private room   \n",
       "33   4.488636         House     Private room   \n",
       "\n",
       "                                            amenities  accommodates  \\\n",
       "11  {TV,\"Cable TV\",Internet,\"Wireless Internet\",Ki...             4   \n",
       "13  {TV,\"Cable TV\",Internet,\"Wireless Internet\",\"A...             6   \n",
       "15  {Internet,\"Wireless Internet\",\"Air conditionin...             2   \n",
       "21  {Internet,\"Air conditioning\",Kitchen,\"Smoking ...             2   \n",
       "33  {Internet,\"Wireless Internet\",Kitchen,\"Pets li...             1   \n",
       "\n",
       "    bathrooms  bed_type cancellation_policy  cleaning_fee     city  ...  \\\n",
       "11        1.5  Real Bed              strict          True       LA  ...   \n",
       "13        1.5  Real Bed              strict          True       DC  ...   \n",
       "15        1.5  Real Bed            moderate          True  Chicago  ...   \n",
       "21        1.5  Real Bed              strict          True      NYC  ...   \n",
       "33        NaN  Real Bed            moderate          True       LA  ...   \n",
       "\n",
       "   instant_bookable last_review   latitude   longitude      neighbourhood  \\\n",
       "11                f  18-11-2016  33.875862 -118.403293      Hermosa Beach   \n",
       "13                t  30-04-2017  38.919630  -77.031189  U Street Corridor   \n",
       "15                f         NaN  41.908240  -87.695242      Humboldt Park   \n",
       "21                f  22-09-2017  40.656278  -73.922645      East Flatbush   \n",
       "33                f  16-11-2016  34.086338 -118.364778     West Hollywood   \n",
       "\n",
       "   number_of_reviews review_scores_rating  zipcode  bedrooms beds  \n",
       "11                29                 97.0    90254       2.0  2.0  \n",
       "13                13                 89.0    20009       2.0  3.0  \n",
       "15                 0                  NaN    60622       1.0  1.0  \n",
       "21                57                 89.0    11212       1.0  1.0  \n",
       "33                46                 99.0    90046       1.0  1.0  \n",
       "\n",
       "[5 rows x 25 columns]"
      ]
     },
     "execution_count": 41,
     "metadata": {},
     "output_type": "execute_result"
    }
   ],
   "source": [
    "cols_to_check = ['beds', 'bedrooms', 'bathrooms']\n",
    "\n",
    "cont_values = (df_feat[cols_to_check] % 1 != 0).any(axis=1)\n",
    "\n",
    "problematic_rows = df_feat[cont_values]\n",
    "\n",
    "problematic_rows.head()"
   ]
  },
  {
   "cell_type": "markdown",
   "id": "33aa4a7b-9704-4272-bdd2-9b7599353fc4",
   "metadata": {},
   "source": [
    "######\n",
    "* **Here, in bathrooms columns we can see values like 1.5 and its invalid. So we can use rounding here which wont affect other float values like 2.0 etc.**"
   ]
  },
  {
   "cell_type": "code",
   "execution_count": 43,
   "id": "560e5bae-6036-4ee3-aff6-9348b0aca7cd",
   "metadata": {},
   "outputs": [
    {
     "name": "stdout",
     "output_type": "stream",
     "text": [
      "<class 'pandas.core.frame.DataFrame'>\n",
      "Index: 74110 entries, 0 to 74110\n",
      "Data columns (total 3 columns):\n",
      " #   Column     Non-Null Count  Dtype\n",
      "---  ------     --------------  -----\n",
      " 0   beds       73979 non-null  Int64\n",
      " 1   bedrooms   74019 non-null  Int64\n",
      " 2   bathrooms  73910 non-null  Int64\n",
      "dtypes: Int64(3)\n",
      "memory usage: 2.5 MB\n"
     ]
    }
   ],
   "source": [
    "df_feat[cols_to_check] = np.ceil(df_feat[cols_to_check]).astype('Int64')\n",
    "df_feat[cols_to_check].info()"
   ]
  },
  {
   "cell_type": "markdown",
   "id": "d1aeee7e-895d-4f54-94ea-a16922f192e8",
   "metadata": {},
   "source": [
    "######\n",
    "##### Checking invalid zero values in bedrooms column."
   ]
  },
  {
   "cell_type": "code",
   "execution_count": 45,
   "id": "117a2449-39a0-41c5-b2c9-b53d9e830161",
   "metadata": {},
   "outputs": [
    {
     "data": {
      "text/html": [
       "<div>\n",
       "<style scoped>\n",
       "    .dataframe tbody tr th:only-of-type {\n",
       "        vertical-align: middle;\n",
       "    }\n",
       "\n",
       "    .dataframe tbody tr th {\n",
       "        vertical-align: top;\n",
       "    }\n",
       "\n",
       "    .dataframe thead th {\n",
       "        text-align: right;\n",
       "    }\n",
       "</style>\n",
       "<table border=\"1\" class=\"dataframe\">\n",
       "  <thead>\n",
       "    <tr style=\"text-align: right;\">\n",
       "      <th></th>\n",
       "      <th>room_type</th>\n",
       "      <th>bed_type</th>\n",
       "      <th>bedrooms</th>\n",
       "    </tr>\n",
       "  </thead>\n",
       "  <tbody>\n",
       "    <tr>\n",
       "      <th>4</th>\n",
       "      <td>Entire home/apt</td>\n",
       "      <td>Real Bed</td>\n",
       "      <td>0</td>\n",
       "    </tr>\n",
       "    <tr>\n",
       "      <th>55</th>\n",
       "      <td>Entire home/apt</td>\n",
       "      <td>Real Bed</td>\n",
       "      <td>0</td>\n",
       "    </tr>\n",
       "    <tr>\n",
       "      <th>64</th>\n",
       "      <td>Entire home/apt</td>\n",
       "      <td>Real Bed</td>\n",
       "      <td>0</td>\n",
       "    </tr>\n",
       "    <tr>\n",
       "      <th>69</th>\n",
       "      <td>Entire home/apt</td>\n",
       "      <td>Real Bed</td>\n",
       "      <td>0</td>\n",
       "    </tr>\n",
       "    <tr>\n",
       "      <th>96</th>\n",
       "      <td>Entire home/apt</td>\n",
       "      <td>Real Bed</td>\n",
       "      <td>0</td>\n",
       "    </tr>\n",
       "    <tr>\n",
       "      <th>...</th>\n",
       "      <td>...</td>\n",
       "      <td>...</td>\n",
       "      <td>...</td>\n",
       "    </tr>\n",
       "    <tr>\n",
       "      <th>74080</th>\n",
       "      <td>Entire home/apt</td>\n",
       "      <td>Real Bed</td>\n",
       "      <td>0</td>\n",
       "    </tr>\n",
       "    <tr>\n",
       "      <th>74087</th>\n",
       "      <td>Entire home/apt</td>\n",
       "      <td>Real Bed</td>\n",
       "      <td>0</td>\n",
       "    </tr>\n",
       "    <tr>\n",
       "      <th>74091</th>\n",
       "      <td>Entire home/apt</td>\n",
       "      <td>Real Bed</td>\n",
       "      <td>0</td>\n",
       "    </tr>\n",
       "    <tr>\n",
       "      <th>74098</th>\n",
       "      <td>Entire home/apt</td>\n",
       "      <td>Real Bed</td>\n",
       "      <td>0</td>\n",
       "    </tr>\n",
       "    <tr>\n",
       "      <th>74109</th>\n",
       "      <td>Entire home/apt</td>\n",
       "      <td>Real Bed</td>\n",
       "      <td>0</td>\n",
       "    </tr>\n",
       "  </tbody>\n",
       "</table>\n",
       "<p>6284 rows × 3 columns</p>\n",
       "</div>"
      ],
      "text/plain": [
       "             room_type  bed_type  bedrooms\n",
       "4      Entire home/apt  Real Bed         0\n",
       "55     Entire home/apt  Real Bed         0\n",
       "64     Entire home/apt  Real Bed         0\n",
       "69     Entire home/apt  Real Bed         0\n",
       "96     Entire home/apt  Real Bed         0\n",
       "...                ...       ...       ...\n",
       "74080  Entire home/apt  Real Bed         0\n",
       "74087  Entire home/apt  Real Bed         0\n",
       "74091  Entire home/apt  Real Bed         0\n",
       "74098  Entire home/apt  Real Bed         0\n",
       "74109  Entire home/apt  Real Bed         0\n",
       "\n",
       "[6284 rows x 3 columns]"
      ]
     },
     "execution_count": 45,
     "metadata": {},
     "output_type": "execute_result"
    }
   ],
   "source": [
    "df_feat[(df_feat['bedrooms'] == 0) & (df_feat['room_type'] == 'Entire home/apt')][['room_type','bed_type', 'bedrooms']]"
   ]
  },
  {
   "cell_type": "markdown",
   "id": "16ee4af9-5570-4cff-9b36-b48346e1bbc6",
   "metadata": {},
   "source": [
    "We will fill these zero values with median value"
   ]
  },
  {
   "cell_type": "code",
   "execution_count": 47,
   "id": "74b68d87-2ac2-48a2-968b-82dc767ee0e1",
   "metadata": {},
   "outputs": [
    {
     "data": {
      "text/plain": [
       "1.0"
      ]
     },
     "execution_count": 47,
     "metadata": {},
     "output_type": "execute_result"
    }
   ],
   "source": [
    "df_feat[df_feat['room_type'] == 'Entire home/apt']['bedrooms'].median()"
   ]
  },
  {
   "cell_type": "code",
   "execution_count": 48,
   "id": "29cbb8a5-9b46-4a79-a7b3-baefa4184934",
   "metadata": {},
   "outputs": [],
   "source": [
    "df_feat.loc[(df_feat['room_type'] == 'Entire home/apt') & (df['bedrooms'] == 0), 'bedrooms'] = 1.0"
   ]
  },
  {
   "cell_type": "markdown",
   "id": "de9e1d59-b0b7-4045-8272-e7ac3ccd6410",
   "metadata": {},
   "source": [
    "######\n",
    "##### Handling missing values"
   ]
  },
  {
   "cell_type": "code",
   "execution_count": 50,
   "id": "e3ae752a-995f-4815-951f-e485929a7fbb",
   "metadata": {},
   "outputs": [],
   "source": [
    "df_feat[\"neighbourhood\"] = df_feat[\"neighbourhood\"].fillna(\"Missing\")\n",
    "\n",
    "df_feat[\"zipcode\"] = df_feat[\"zipcode\"].fillna(\"Missing\")\n",
    "\n",
    "df_feat[\"host_identity_verified\"] = df_feat[\"host_identity_verified\"].fillna(-1)\n",
    "\n",
    "df_feat[\"host_has_profile_pic\"] = df_feat[\"host_has_profile_pic\"].fillna(-1)\n",
    "\n",
    "df_feat['review_scores_rating'] = df_feat['review_scores_rating'].fillna(0)\n",
    "\n",
    "for col in [\"host_response_rate\", \"bathrooms\", \"beds\", \"bedrooms\"]:\n",
    "    df_feat[col] = df_feat[col].fillna(df_feat[col].median())"
   ]
  },
  {
   "cell_type": "code",
   "execution_count": 51,
   "id": "1a73fd15-03a2-4ef1-bd81-34269ef82b0d",
   "metadata": {},
   "outputs": [
    {
     "data": {
      "text/plain": [
       "log_price                     0\n",
       "property_type                 0\n",
       "room_type                     0\n",
       "amenities                     0\n",
       "accommodates                  0\n",
       "bathrooms                     0\n",
       "bed_type                      0\n",
       "cancellation_policy           0\n",
       "cleaning_fee                  0\n",
       "city                          0\n",
       "first_review              15864\n",
       "host_has_profile_pic          0\n",
       "host_identity_verified        0\n",
       "host_response_rate            0\n",
       "host_since                  188\n",
       "instant_bookable              0\n",
       "last_review               15827\n",
       "latitude                      0\n",
       "longitude                     0\n",
       "neighbourhood                 0\n",
       "number_of_reviews             0\n",
       "review_scores_rating          0\n",
       "zipcode                       0\n",
       "bedrooms                      0\n",
       "beds                          0\n",
       "dtype: int64"
      ]
     },
     "execution_count": 51,
     "metadata": {},
     "output_type": "execute_result"
    }
   ],
   "source": [
    "df_feat.isnull().sum()"
   ]
  },
  {
   "cell_type": "markdown",
   "id": "a980f6ff-53bc-4007-9fdf-06b645c9b0dd",
   "metadata": {},
   "source": [
    " * The above remaining columns with null values will be handled after flagging in feature engineering.\n",
    "   "
   ]
  },
  {
   "cell_type": "markdown",
   "id": "5fcf4d70-1a9b-4419-b571-2be3ee7a52ef",
   "metadata": {},
   "source": [
    "## Feature Engineering\n",
    "\n",
    "Feature Engineering is a crucial process of transforming existing data into usable features in machine learning. We create new features, select and drop existing features and then perform encoding and scaling."
   ]
  },
  {
   "cell_type": "markdown",
   "id": "8ee993db-a2ba-4002-b932-f884f4f3ba77",
   "metadata": {},
   "source": [
    "#### Part 1 : Feature Extraction, Creating New Feature and Flagging \n",
    "#####\n",
    "1. In the column **amenities**, all the available facilities povided at property are listed. This information plays a significant role in predicting price. We will count all the facilities listed for each property and create a new feature as **counts_of_amenities** containing the counts.\n",
    "   * The column has a set of values in each row.\n",
    "   * some of the strings are without single/double quotes.\n",
    "   * unnecessary part like \"translation missing\".\n",
    "\n",
    "Hnece we can achieve this extraction using *re* libraray and defining a function. After which we can apply this function to extract every set of values, count the values in it and then assigning the count in new column."
   ]
  },
  {
   "cell_type": "code",
   "execution_count": 55,
   "id": "2038ba0f-f022-4d54-a5ca-489b6c049ba2",
   "metadata": {},
   "outputs": [
    {
     "data": {
      "text/html": [
       "<div>\n",
       "<style scoped>\n",
       "    .dataframe tbody tr th:only-of-type {\n",
       "        vertical-align: middle;\n",
       "    }\n",
       "\n",
       "    .dataframe tbody tr th {\n",
       "        vertical-align: top;\n",
       "    }\n",
       "\n",
       "    .dataframe thead th {\n",
       "        text-align: right;\n",
       "    }\n",
       "</style>\n",
       "<table border=\"1\" class=\"dataframe\">\n",
       "  <thead>\n",
       "    <tr style=\"text-align: right;\">\n",
       "      <th></th>\n",
       "      <th>amenities</th>\n",
       "      <th>amenities_list</th>\n",
       "      <th>counts_of_amenities</th>\n",
       "    </tr>\n",
       "  </thead>\n",
       "  <tbody>\n",
       "    <tr>\n",
       "      <th>0</th>\n",
       "      <td>{\"Wireless Internet\",\"Air conditioning\",Kitche...</td>\n",
       "      <td>[Wireless Internet, Air conditioning, Kitchen,...</td>\n",
       "      <td>8</td>\n",
       "    </tr>\n",
       "    <tr>\n",
       "      <th>1</th>\n",
       "      <td>{\"Wireless Internet\",\"Air conditioning\",Kitche...</td>\n",
       "      <td>[Wireless Internet, Air conditioning, Kitchen,...</td>\n",
       "      <td>14</td>\n",
       "    </tr>\n",
       "    <tr>\n",
       "      <th>2</th>\n",
       "      <td>{TV,\"Cable TV\",\"Wireless Internet\",\"Air condit...</td>\n",
       "      <td>[TV, Cable TV, Wireless Internet, Air conditio...</td>\n",
       "      <td>18</td>\n",
       "    </tr>\n",
       "    <tr>\n",
       "      <th>3</th>\n",
       "      <td>{TV,\"Cable TV\",Internet,\"Wireless Internet\",Ki...</td>\n",
       "      <td>[TV, Cable TV, Internet, Wireless Internet, Ki...</td>\n",
       "      <td>15</td>\n",
       "    </tr>\n",
       "    <tr>\n",
       "      <th>4</th>\n",
       "      <td>{TV,Internet,\"Wireless Internet\",\"Air conditio...</td>\n",
       "      <td>[TV, Internet, Wireless Internet, Air conditio...</td>\n",
       "      <td>12</td>\n",
       "    </tr>\n",
       "    <tr>\n",
       "      <th>...</th>\n",
       "      <td>...</td>\n",
       "      <td>...</td>\n",
       "      <td>...</td>\n",
       "    </tr>\n",
       "    <tr>\n",
       "      <th>74106</th>\n",
       "      <td>{}</td>\n",
       "      <td>[]</td>\n",
       "      <td>0</td>\n",
       "    </tr>\n",
       "    <tr>\n",
       "      <th>74107</th>\n",
       "      <td>{TV,\"Cable TV\",Internet,\"Wireless Internet\",Ki...</td>\n",
       "      <td>[TV, Cable TV, Internet, Wireless Internet, Ki...</td>\n",
       "      <td>15</td>\n",
       "    </tr>\n",
       "    <tr>\n",
       "      <th>74108</th>\n",
       "      <td>{TV,Internet,\"Wireless Internet\",\"Air conditio...</td>\n",
       "      <td>[TV, Internet, Wireless Internet, Air conditio...</td>\n",
       "      <td>31</td>\n",
       "    </tr>\n",
       "    <tr>\n",
       "      <th>74109</th>\n",
       "      <td>{TV,\"Wireless Internet\",\"Air conditioning\",Kit...</td>\n",
       "      <td>[TV, Wireless Internet, Air conditioning, Kitc...</td>\n",
       "      <td>15</td>\n",
       "    </tr>\n",
       "    <tr>\n",
       "      <th>74110</th>\n",
       "      <td>{TV,Internet,\"Wireless Internet\",Kitchen,\"Free...</td>\n",
       "      <td>[TV, Internet, Wireless Internet, Kitchen, Fre...</td>\n",
       "      <td>18</td>\n",
       "    </tr>\n",
       "  </tbody>\n",
       "</table>\n",
       "<p>74110 rows × 3 columns</p>\n",
       "</div>"
      ],
      "text/plain": [
       "                                               amenities  \\\n",
       "0      {\"Wireless Internet\",\"Air conditioning\",Kitche...   \n",
       "1      {\"Wireless Internet\",\"Air conditioning\",Kitche...   \n",
       "2      {TV,\"Cable TV\",\"Wireless Internet\",\"Air condit...   \n",
       "3      {TV,\"Cable TV\",Internet,\"Wireless Internet\",Ki...   \n",
       "4      {TV,Internet,\"Wireless Internet\",\"Air conditio...   \n",
       "...                                                  ...   \n",
       "74106                                                 {}   \n",
       "74107  {TV,\"Cable TV\",Internet,\"Wireless Internet\",Ki...   \n",
       "74108  {TV,Internet,\"Wireless Internet\",\"Air conditio...   \n",
       "74109  {TV,\"Wireless Internet\",\"Air conditioning\",Kit...   \n",
       "74110  {TV,Internet,\"Wireless Internet\",Kitchen,\"Free...   \n",
       "\n",
       "                                          amenities_list  counts_of_amenities  \n",
       "0      [Wireless Internet, Air conditioning, Kitchen,...                    8  \n",
       "1      [Wireless Internet, Air conditioning, Kitchen,...                   14  \n",
       "2      [TV, Cable TV, Wireless Internet, Air conditio...                   18  \n",
       "3      [TV, Cable TV, Internet, Wireless Internet, Ki...                   15  \n",
       "4      [TV, Internet, Wireless Internet, Air conditio...                   12  \n",
       "...                                                  ...                  ...  \n",
       "74106                                                 []                    0  \n",
       "74107  [TV, Cable TV, Internet, Wireless Internet, Ki...                   15  \n",
       "74108  [TV, Internet, Wireless Internet, Air conditio...                   31  \n",
       "74109  [TV, Wireless Internet, Air conditioning, Kitc...                   15  \n",
       "74110  [TV, Internet, Wireless Internet, Kitchen, Fre...                   18  \n",
       "\n",
       "[74110 rows x 3 columns]"
      ]
     },
     "execution_count": 55,
     "metadata": {},
     "output_type": "execute_result"
    }
   ],
   "source": [
    "def extract_amenities(amenities_row):\n",
    "    return re.findall(r'\"(.*?)\"|(\\w[\\w\\s/-]*)', amenities_row)\n",
    "\n",
    "def clean_amenities(matches):\n",
    "    items = [m[0] if m[0] else m[1] for m in matches]\n",
    "    return [item for item in items if \"translation missing\" not in item]\n",
    "\n",
    "df_feat[\"amenities_list\"] = df_feat[\"amenities\"].apply(lambda x: clean_amenities(extract_amenities(x)))\n",
    "df_feat[\"counts_of_amenities\"] = df_feat[\"amenities_list\"].apply(len)\n",
    "\n",
    "df_feat[[\"amenities\", \"amenities_list\", \"counts_of_amenities\"]]"
   ]
  },
  {
   "cell_type": "markdown",
   "id": "67df2d14-3b31-49e8-8b6e-51d4fee6cfe2",
   "metadata": {},
   "source": [
    " * We can see that a new feature is created as *counts_of_amenities* and this feature will be helpful for our prediction model.\n",
    " * Now as we have created a new feature from existing two columns *amenities, amenities_list* we can drop them."
   ]
  },
  {
   "cell_type": "code",
   "execution_count": 57,
   "id": "fe51ecaf-7787-4739-959c-5ceb57bf77dc",
   "metadata": {},
   "outputs": [
    {
     "data": {
      "text/plain": [
       "(74110, 25)"
      ]
     },
     "execution_count": 57,
     "metadata": {},
     "output_type": "execute_result"
    }
   ],
   "source": [
    "df_feat.drop([\"amenities\", \"amenities_list\"], axis = 1, inplace= True)\n",
    "df_feat.shape"
   ]
  },
  {
   "cell_type": "markdown",
   "id": "f2259531-e4f3-4cc6-9e44-28a180e74802",
   "metadata": {},
   "source": [
    "####\n",
    " 2. The columns first_review and last_review both are containing date data. As we discussed earlier we can create a new feature **review_span** (last review date - first review date).\n",
    "    * Zeros in review span column could mean\n",
    "      1. Just Reviewed\n",
    "      2. No review\n",
    "    * If any of both dates is not available then the calcualtion could be misleading.\n",
    "    \n",
    "  To overcome these challenges, we follow following approaches.\n",
    "   * We create a new feature **has_review** ---> flagging  \"No Reviews\" as 0 and if any of dates available then 1. Model will learn that if span is 0 and  has_review is 0 then there are no dates available else if span is 0 and has_review is 1 then this is a true zero value, means listing is just reviewd.\n",
    "   * We create a new feature **missing_review_date** ---> flagging \"any one date missing\" as 1 else 0. And in span column, we will put 0 and in has_review column we will put 1 for this criteria."
   ]
  },
  {
   "cell_type": "code",
   "execution_count": 59,
   "id": "54620d21-4d28-45e5-a2db-a0bc399b7919",
   "metadata": {},
   "outputs": [],
   "source": [
    "df_feat[\"has_review\"] = ((~df_feat[\"first_review\"].isna()) | (~df_feat[\"last_review\"].isna())).astype(int)\n",
    "\n",
    "df_feat[\"missing_review_date\"] = ((df_feat[\"first_review\"].isna()) ^ (df_feat[\"last_review\"].isna())).astype(int)\n",
    "\n",
    "df_feat[\"review_span\"] = ((pd.to_datetime(df_feat[\"last_review\"]) - pd.to_datetime(df_feat[\"first_review\"])).dt.days.fillna(0))"
   ]
  },
  {
   "cell_type": "code",
   "execution_count": 60,
   "id": "a8f9b4dd-ea0e-4231-8d7f-155d27f01f59",
   "metadata": {},
   "outputs": [
    {
     "data": {
      "text/html": [
       "<div>\n",
       "<style scoped>\n",
       "    .dataframe tbody tr th:only-of-type {\n",
       "        vertical-align: middle;\n",
       "    }\n",
       "\n",
       "    .dataframe tbody tr th {\n",
       "        vertical-align: top;\n",
       "    }\n",
       "\n",
       "    .dataframe thead th {\n",
       "        text-align: right;\n",
       "    }\n",
       "</style>\n",
       "<table border=\"1\" class=\"dataframe\">\n",
       "  <thead>\n",
       "    <tr style=\"text-align: right;\">\n",
       "      <th></th>\n",
       "      <th>first_review</th>\n",
       "      <th>last_review</th>\n",
       "      <th>has_review</th>\n",
       "      <th>missing_review_date</th>\n",
       "      <th>review_span</th>\n",
       "    </tr>\n",
       "  </thead>\n",
       "  <tbody>\n",
       "    <tr>\n",
       "      <th>0</th>\n",
       "      <td>18-06-2016</td>\n",
       "      <td>18-07-2016</td>\n",
       "      <td>1</td>\n",
       "      <td>0</td>\n",
       "      <td>30.0</td>\n",
       "    </tr>\n",
       "    <tr>\n",
       "      <th>1</th>\n",
       "      <td>05-08-2017</td>\n",
       "      <td>23-09-2017</td>\n",
       "      <td>1</td>\n",
       "      <td>0</td>\n",
       "      <td>49.0</td>\n",
       "    </tr>\n",
       "    <tr>\n",
       "      <th>2</th>\n",
       "      <td>30-04-2017</td>\n",
       "      <td>14-09-2017</td>\n",
       "      <td>1</td>\n",
       "      <td>0</td>\n",
       "      <td>137.0</td>\n",
       "    </tr>\n",
       "    <tr>\n",
       "      <th>3</th>\n",
       "      <td>NaN</td>\n",
       "      <td>NaN</td>\n",
       "      <td>0</td>\n",
       "      <td>0</td>\n",
       "      <td>0.0</td>\n",
       "    </tr>\n",
       "    <tr>\n",
       "      <th>4</th>\n",
       "      <td>12-05-2015</td>\n",
       "      <td>22-01-2017</td>\n",
       "      <td>1</td>\n",
       "      <td>0</td>\n",
       "      <td>621.0</td>\n",
       "    </tr>\n",
       "  </tbody>\n",
       "</table>\n",
       "</div>"
      ],
      "text/plain": [
       "  first_review last_review  has_review  missing_review_date  review_span\n",
       "0   18-06-2016  18-07-2016           1                    0         30.0\n",
       "1   05-08-2017  23-09-2017           1                    0         49.0\n",
       "2   30-04-2017  14-09-2017           1                    0        137.0\n",
       "3          NaN         NaN           0                    0          0.0\n",
       "4   12-05-2015  22-01-2017           1                    0        621.0"
      ]
     },
     "execution_count": 60,
     "metadata": {},
     "output_type": "execute_result"
    }
   ],
   "source": [
    "df_feat[[\"first_review\", \"last_review\", \"has_review\", \"missing_review_date\", \"review_span\"]].head()"
   ]
  },
  {
   "cell_type": "code",
   "execution_count": 61,
   "id": "f900dbc9-9f87-4bcf-8854-116e19324649",
   "metadata": {},
   "outputs": [
    {
     "data": {
      "text/html": [
       "<div>\n",
       "<style scoped>\n",
       "    .dataframe tbody tr th:only-of-type {\n",
       "        vertical-align: middle;\n",
       "    }\n",
       "\n",
       "    .dataframe tbody tr th {\n",
       "        vertical-align: top;\n",
       "    }\n",
       "\n",
       "    .dataframe thead th {\n",
       "        text-align: right;\n",
       "    }\n",
       "</style>\n",
       "<table border=\"1\" class=\"dataframe\">\n",
       "  <thead>\n",
       "    <tr style=\"text-align: right;\">\n",
       "      <th></th>\n",
       "      <th>first_review</th>\n",
       "      <th>last_review</th>\n",
       "      <th>has_review</th>\n",
       "      <th>missing_review_date</th>\n",
       "      <th>review_span</th>\n",
       "    </tr>\n",
       "  </thead>\n",
       "  <tbody>\n",
       "    <tr>\n",
       "      <th>447</th>\n",
       "      <td>NaN</td>\n",
       "      <td>01-02-2016</td>\n",
       "      <td>1</td>\n",
       "      <td>1</td>\n",
       "      <td>0.0</td>\n",
       "    </tr>\n",
       "    <tr>\n",
       "      <th>602</th>\n",
       "      <td>NaN</td>\n",
       "      <td>10-04-2017</td>\n",
       "      <td>1</td>\n",
       "      <td>1</td>\n",
       "      <td>0.0</td>\n",
       "    </tr>\n",
       "    <tr>\n",
       "      <th>1288</th>\n",
       "      <td>NaN</td>\n",
       "      <td>01-01-2017</td>\n",
       "      <td>1</td>\n",
       "      <td>1</td>\n",
       "      <td>0.0</td>\n",
       "    </tr>\n",
       "    <tr>\n",
       "      <th>3309</th>\n",
       "      <td>NaN</td>\n",
       "      <td>13-09-2017</td>\n",
       "      <td>1</td>\n",
       "      <td>1</td>\n",
       "      <td>0.0</td>\n",
       "    </tr>\n",
       "    <tr>\n",
       "      <th>5593</th>\n",
       "      <td>NaN</td>\n",
       "      <td>07-09-2017</td>\n",
       "      <td>1</td>\n",
       "      <td>1</td>\n",
       "      <td>0.0</td>\n",
       "    </tr>\n",
       "  </tbody>\n",
       "</table>\n",
       "</div>"
      ],
      "text/plain": [
       "     first_review last_review  has_review  missing_review_date  review_span\n",
       "447           NaN  01-02-2016           1                    1          0.0\n",
       "602           NaN  10-04-2017           1                    1          0.0\n",
       "1288          NaN  01-01-2017           1                    1          0.0\n",
       "3309          NaN  13-09-2017           1                    1          0.0\n",
       "5593          NaN  07-09-2017           1                    1          0.0"
      ]
     },
     "execution_count": 61,
     "metadata": {},
     "output_type": "execute_result"
    }
   ],
   "source": [
    "df_feat[(df_feat[\"first_review\"].isnull()) & (df_feat[\"last_review\"].notnull())][[\"first_review\", \"last_review\", \"has_review\", \"missing_review_date\", \"review_span\"]].head()"
   ]
  },
  {
   "cell_type": "markdown",
   "id": "34eed631-6a83-4ae8-94be-d03e58d193ae",
   "metadata": {},
   "source": [
    "#### Intuition Behind has_review and missing_review_date Columns :\n",
    " * "
   ]
  },
  {
   "cell_type": "markdown",
   "id": "d5aa68d2-c468-4fb9-a2c4-8dbd052c6e99",
   "metadata": {},
   "source": [
    "####\n",
    "3. **For host_since** - filling null, creating new feature and flagging.\n",
    "\n",
    "   As we can not use this column directly for modelling, we will extract a span of days from host joined date to today. This will be our new feature as **host_since_days** by calculating the date (Today - Host since date).\n",
    "   But before that, we should handle null values in this column.\n",
    "   \n",
    "   * **Logic** - This column gives date for when the host joined Airbnb. If there is a first_review date available then that means the host joined Airbnb obviously before this date. So we will fill null values in host_since with dates from first_review.\n",
    "   * If the first_review date is not available then the calcualation will lead to null value. And null value in host_since_days could mean,\n",
    "       * The date is not available.\n",
    "       * The host joined today.\n",
    "    * To overcome this challenge, we will create a new feature as **joined_date** --> flagging 1 if the date is available else 0 after filling all null values.\n",
    "    * So, if host_since_days 0 and\n",
    "        - joined_date is 1 then host joined today\n",
    "        - joined_date is 0 then no date available"
   ]
  },
  {
   "cell_type": "code",
   "execution_count": 64,
   "id": "5bccfd1f-2055-4e34-8c6b-4407b5e365aa",
   "metadata": {},
   "outputs": [],
   "source": [
    "today = pd.Timestamp.today()\n",
    "\n",
    "\n",
    "df_feat[\"host_since_filled\"] = df_feat[\"host_since\"]\n",
    "\n",
    "from_first_rev = df_feat[\"host_since\"].isna() & df_feat[\"first_review\"].notna()\n",
    "\n",
    "df_feat.loc[from_first_rev, \"host_since_filled\"] = df_feat.loc[from_first_rev, \"first_review\"]\n",
    "\n",
    "\n",
    "df_feat[\"host_since_days\"] = (\n",
    "    (today - pd.to_datetime(df_feat[\"host_since_filled\"], errors=\"coerce\")).dt.days\n",
    ")\n",
    "\n",
    "\n",
    "df_feat[\"joined_date\"] = df_feat[\"host_since_filled\"].notna().astype(int)\n"
   ]
  },
  {
   "cell_type": "code",
   "execution_count": 65,
   "id": "78914df7-5263-40a9-ae49-e196e6e43546",
   "metadata": {},
   "outputs": [
    {
     "data": {
      "text/plain": [
       "host_since         188\n",
       "host_since_days     42\n",
       "joined_date          0\n",
       "dtype: int64"
      ]
     },
     "execution_count": 65,
     "metadata": {},
     "output_type": "execute_result"
    }
   ],
   "source": [
    "df_feat[[\"host_since\", \"host_since_days\", \"joined_date\"]].isnull().sum()"
   ]
  },
  {
   "cell_type": "code",
   "execution_count": 66,
   "id": "88cec9ca-20be-46e7-aca3-687419e5a104",
   "metadata": {},
   "outputs": [
    {
     "data": {
      "text/html": [
       "<div>\n",
       "<style scoped>\n",
       "    .dataframe tbody tr th:only-of-type {\n",
       "        vertical-align: middle;\n",
       "    }\n",
       "\n",
       "    .dataframe tbody tr th {\n",
       "        vertical-align: top;\n",
       "    }\n",
       "\n",
       "    .dataframe thead th {\n",
       "        text-align: right;\n",
       "    }\n",
       "</style>\n",
       "<table border=\"1\" class=\"dataframe\">\n",
       "  <thead>\n",
       "    <tr style=\"text-align: right;\">\n",
       "      <th></th>\n",
       "      <th>first_review</th>\n",
       "      <th>last_review</th>\n",
       "      <th>host_since</th>\n",
       "      <th>host_since_days</th>\n",
       "      <th>joined_date</th>\n",
       "    </tr>\n",
       "  </thead>\n",
       "  <tbody>\n",
       "    <tr>\n",
       "      <th>92</th>\n",
       "      <td>NaN</td>\n",
       "      <td>NaN</td>\n",
       "      <td>NaN</td>\n",
       "      <td>NaN</td>\n",
       "      <td>0</td>\n",
       "    </tr>\n",
       "    <tr>\n",
       "      <th>525</th>\n",
       "      <td>NaN</td>\n",
       "      <td>NaN</td>\n",
       "      <td>NaN</td>\n",
       "      <td>NaN</td>\n",
       "      <td>0</td>\n",
       "    </tr>\n",
       "    <tr>\n",
       "      <th>6878</th>\n",
       "      <td>NaN</td>\n",
       "      <td>NaN</td>\n",
       "      <td>NaN</td>\n",
       "      <td>NaN</td>\n",
       "      <td>0</td>\n",
       "    </tr>\n",
       "    <tr>\n",
       "      <th>9996</th>\n",
       "      <td>NaN</td>\n",
       "      <td>NaN</td>\n",
       "      <td>NaN</td>\n",
       "      <td>NaN</td>\n",
       "      <td>0</td>\n",
       "    </tr>\n",
       "    <tr>\n",
       "      <th>15288</th>\n",
       "      <td>NaN</td>\n",
       "      <td>NaN</td>\n",
       "      <td>NaN</td>\n",
       "      <td>NaN</td>\n",
       "      <td>0</td>\n",
       "    </tr>\n",
       "  </tbody>\n",
       "</table>\n",
       "</div>"
      ],
      "text/plain": [
       "      first_review last_review host_since  host_since_days  joined_date\n",
       "92             NaN         NaN        NaN              NaN            0\n",
       "525            NaN         NaN        NaN              NaN            0\n",
       "6878           NaN         NaN        NaN              NaN            0\n",
       "9996           NaN         NaN        NaN              NaN            0\n",
       "15288          NaN         NaN        NaN              NaN            0"
      ]
     },
     "execution_count": 66,
     "metadata": {},
     "output_type": "execute_result"
    }
   ],
   "source": [
    "df_feat[df_feat[\"host_since_days\"].isnull()][[\"first_review\", \"last_review\", \"host_since\", \"host_since_days\", \"joined_date\"]].head()"
   ]
  },
  {
   "cell_type": "markdown",
   "id": "ea09af76-8bb9-46b1-86ac-51b667845e06",
   "metadata": {},
   "source": [
    "######\n",
    " * As we discussed, if both date not avaialable then host_since_days will return Nan. Now we fill these NaN values with zero/0 and all the true zeros are already covered in column joined_date."
   ]
  },
  {
   "cell_type": "code",
   "execution_count": 68,
   "id": "6a8588b2-b604-4910-b803-bce1fda9d35b",
   "metadata": {},
   "outputs": [],
   "source": [
    "df_feat[\"host_since_days\"].fillna(0, inplace=True)"
   ]
  },
  {
   "cell_type": "code",
   "execution_count": 69,
   "id": "e8046064-6a42-47e3-b521-a90f2941cdce",
   "metadata": {},
   "outputs": [
    {
     "data": {
      "text/plain": [
       "host_since         188\n",
       "host_since_days      0\n",
       "joined_date          0\n",
       "dtype: int64"
      ]
     },
     "execution_count": 69,
     "metadata": {},
     "output_type": "execute_result"
    }
   ],
   "source": [
    "df_feat[[\"host_since\", \"host_since_days\", \"joined_date\"]].isnull().sum()"
   ]
  },
  {
   "cell_type": "markdown",
   "id": "1dd3f2ee-d8da-444e-bbdc-80837ecbc35c",
   "metadata": {},
   "source": [
    "* Now as we have created these new feature from existing columns **first_review, last_review, host_since, host_since_filled** we can drop them."
   ]
  },
  {
   "cell_type": "code",
   "execution_count": 71,
   "id": "0b4b5020-cb5e-4d41-9744-87fae6a7e268",
   "metadata": {},
   "outputs": [
    {
     "data": {
      "text/plain": [
       "(74110, 27)"
      ]
     },
     "execution_count": 71,
     "metadata": {},
     "output_type": "execute_result"
    }
   ],
   "source": [
    "df_feat.drop([\"first_review\", \"last_review\", \"host_since\", \"host_since_filled\"], axis = 1, inplace= True)\n",
    "df_feat.shape"
   ]
  },
  {
   "cell_type": "markdown",
   "id": "3bf9a659-7c34-4959-afa9-ef0b6f135c71",
   "metadata": {},
   "source": [
    "####\n",
    "4. **Latitude and longitude information -**\n",
    "We have two columns in our data, latitude and longitude providing exact location of the listing. Even if the columns are in numerical format they define location, not quantity or magnitude so in ML sense these numbers dont have any weight. What we can do is,\n",
    "   * Clustering based on latitude and longitude\n",
    "   * Using external realtime APIs for converting into category of locations\n",
    "   * Distance calculation from central point.\n",
    "\n",
    "As we have the city column with 6 cities, we can go with the third option of calculating distance for each listing from the central point of its city.\n",
    "  * **Methodology -**\n",
    "      * We will define a function using Haversine formula of distance calculation using latitudes and longitudes of both location points and then apply this to our data to extract values in the new feature **dist_from_centre**.\n",
    "      * The constant R - Radius of the Earth in km is used for calculation so output will be in km.\n",
    "      * commonly accepted approximate central points of cities are as :\n",
    "         1. Boston – Downtown Boston\n",
    "         2. Chicago – Downtown / The Loop\n",
    "         3. DC – Near the White House / National Mall\n",
    "         4. LA – Downtown Los Angeles\n",
    "         5. NYC – Manhattan (Financial District)\n",
    "         6. SF – Downtown San Francisco / Civic Center"
   ]
  },
  {
   "cell_type": "code",
   "execution_count": 73,
   "id": "5282078f-d0ac-4174-9c8b-c88ce8a00b27",
   "metadata": {},
   "outputs": [],
   "source": [
    "city_centers = {\n",
    "    \"Boston\": (42.3601, -71.0589),\n",
    "    \"Chicago\": (41.8781, -87.6298),\n",
    "    \"DC\": (38.9072, -77.0369),\n",
    "    \"LA\": (34.0522, -118.2437),\n",
    "    \"NYC\": (40.7128, -74.0060),\n",
    "    \"SF\": (37.7749, -122.4194)\n",
    "}"
   ]
  },
  {
   "cell_type": "code",
   "execution_count": 74,
   "id": "85e150fa-8a8a-423e-aeb7-fb1499498144",
   "metadata": {},
   "outputs": [],
   "source": [
    "def haversine(lat1, lon1, lat2, lon2):\n",
    "    R = 6371\n",
    "    lat1, lon1, lat2, lon2 = map(np.radians, [lat1, lon1, lat2, lon2])\n",
    "    dlat = lat2 - lat1\n",
    "    dlon = lon2 - lon1\n",
    "    a = np.sin(dlat/2.0)**2 + np.cos(lat1) * np.cos(lat2) * np.sin(dlon/2.0)**2\n",
    "    c = 2 * np.arcsin(np.sqrt(a))\n",
    "    return R * c\n",
    "\n",
    "def compute_dist(row):\n",
    "    city = row[\"city\"]\n",
    "    center_lat, center_lon = city_centers[city]\n",
    "    return haversine(row[\"latitude\"], row[\"longitude\"], center_lat, center_lon)\n",
    "\n",
    "df_feat[\"dist_from_centre\"] = df_feat.apply(compute_dist, axis=1)"
   ]
  },
  {
   "cell_type": "code",
   "execution_count": 75,
   "id": "0ef96557-178b-4d7e-82b3-21b973f6317a",
   "metadata": {},
   "outputs": [
    {
     "data": {
      "text/html": [
       "<div>\n",
       "<style scoped>\n",
       "    .dataframe tbody tr th:only-of-type {\n",
       "        vertical-align: middle;\n",
       "    }\n",
       "\n",
       "    .dataframe tbody tr th {\n",
       "        vertical-align: top;\n",
       "    }\n",
       "\n",
       "    .dataframe thead th {\n",
       "        text-align: right;\n",
       "    }\n",
       "</style>\n",
       "<table border=\"1\" class=\"dataframe\">\n",
       "  <thead>\n",
       "    <tr style=\"text-align: right;\">\n",
       "      <th></th>\n",
       "      <th>city</th>\n",
       "      <th>latitude</th>\n",
       "      <th>longitude</th>\n",
       "      <th>dist_from_centre</th>\n",
       "    </tr>\n",
       "  </thead>\n",
       "  <tbody>\n",
       "    <tr>\n",
       "      <th>0</th>\n",
       "      <td>NYC</td>\n",
       "      <td>40.696524</td>\n",
       "      <td>-73.991617</td>\n",
       "      <td>2.178424</td>\n",
       "    </tr>\n",
       "    <tr>\n",
       "      <th>1</th>\n",
       "      <td>NYC</td>\n",
       "      <td>40.766115</td>\n",
       "      <td>-73.989040</td>\n",
       "      <td>6.098174</td>\n",
       "    </tr>\n",
       "    <tr>\n",
       "      <th>2</th>\n",
       "      <td>NYC</td>\n",
       "      <td>40.808110</td>\n",
       "      <td>-73.943756</td>\n",
       "      <td>11.823735</td>\n",
       "    </tr>\n",
       "    <tr>\n",
       "      <th>3</th>\n",
       "      <td>SF</td>\n",
       "      <td>37.772004</td>\n",
       "      <td>-122.431619</td>\n",
       "      <td>1.121160</td>\n",
       "    </tr>\n",
       "    <tr>\n",
       "      <th>4</th>\n",
       "      <td>DC</td>\n",
       "      <td>38.925627</td>\n",
       "      <td>-77.034596</td>\n",
       "      <td>2.058657</td>\n",
       "    </tr>\n",
       "    <tr>\n",
       "      <th>...</th>\n",
       "      <td>...</td>\n",
       "      <td>...</td>\n",
       "      <td>...</td>\n",
       "      <td>...</td>\n",
       "    </tr>\n",
       "    <tr>\n",
       "      <th>74106</th>\n",
       "      <td>NYC</td>\n",
       "      <td>40.709025</td>\n",
       "      <td>-73.939405</td>\n",
       "      <td>5.628773</td>\n",
       "    </tr>\n",
       "    <tr>\n",
       "      <th>74107</th>\n",
       "      <td>LA</td>\n",
       "      <td>33.871549</td>\n",
       "      <td>-118.396053</td>\n",
       "      <td>24.514007</td>\n",
       "    </tr>\n",
       "    <tr>\n",
       "      <th>74108</th>\n",
       "      <td>NYC</td>\n",
       "      <td>40.706749</td>\n",
       "      <td>-73.942377</td>\n",
       "      <td>5.404696</td>\n",
       "    </tr>\n",
       "    <tr>\n",
       "      <th>74109</th>\n",
       "      <td>NYC</td>\n",
       "      <td>40.738535</td>\n",
       "      <td>-74.000157</td>\n",
       "      <td>2.903618</td>\n",
       "    </tr>\n",
       "    <tr>\n",
       "      <th>74110</th>\n",
       "      <td>LA</td>\n",
       "      <td>33.761096</td>\n",
       "      <td>-118.192409</td>\n",
       "      <td>32.713494</td>\n",
       "    </tr>\n",
       "  </tbody>\n",
       "</table>\n",
       "<p>74110 rows × 4 columns</p>\n",
       "</div>"
      ],
      "text/plain": [
       "      city   latitude   longitude  dist_from_centre\n",
       "0      NYC  40.696524  -73.991617          2.178424\n",
       "1      NYC  40.766115  -73.989040          6.098174\n",
       "2      NYC  40.808110  -73.943756         11.823735\n",
       "3       SF  37.772004 -122.431619          1.121160\n",
       "4       DC  38.925627  -77.034596          2.058657\n",
       "...    ...        ...         ...               ...\n",
       "74106  NYC  40.709025  -73.939405          5.628773\n",
       "74107   LA  33.871549 -118.396053         24.514007\n",
       "74108  NYC  40.706749  -73.942377          5.404696\n",
       "74109  NYC  40.738535  -74.000157          2.903618\n",
       "74110   LA  33.761096 -118.192409         32.713494\n",
       "\n",
       "[74110 rows x 4 columns]"
      ]
     },
     "execution_count": 75,
     "metadata": {},
     "output_type": "execute_result"
    }
   ],
   "source": [
    "df_feat[[\"city\", \"latitude\", \"longitude\", \"dist_from_centre\"]]"
   ]
  },
  {
   "cell_type": "markdown",
   "id": "eb33cc91-0b21-4d27-8d2f-79590411c463",
   "metadata": {},
   "source": [
    "######\n",
    "**Conclusion** -\n",
    "  * I have cross validated the distance output. Those are correctly calculated using latitudes and longitudes.\n",
    "  * Using google maps, there are minor difference between the GMap distance and these distance Because this distance is the straight line distance between two locations.\n",
    "\n",
    "As we created this new feature we can now drop the existing columns.\n",
    " * City with Distance data might provide enough information about location. So we can drop **zipcode** column and use frequency encoding for neighborhood column.\n",
    " * (As listings having same zipcode may not have same neighborhood hence dropping zipcode column)"
   ]
  },
  {
   "cell_type": "code",
   "execution_count": 77,
   "id": "1f0b3fdd-39b5-4868-8099-f0476595bed1",
   "metadata": {},
   "outputs": [],
   "source": [
    "df_feat.drop([\"latitude\", \"longitude\", \"zipcode\"], axis = 1, inplace = True)"
   ]
  },
  {
   "cell_type": "code",
   "execution_count": 78,
   "id": "f3657582-fb24-4a54-bf18-cf1c0a5e1702",
   "metadata": {},
   "outputs": [
    {
     "data": {
      "text/plain": [
       "(74110, 25)"
      ]
     },
     "execution_count": 78,
     "metadata": {},
     "output_type": "execute_result"
    }
   ],
   "source": [
    "df_feat.shape"
   ]
  },
  {
   "cell_type": "markdown",
   "id": "3bbe9460-fac8-4480-a0ac-c41dcabcf517",
   "metadata": {},
   "source": [
    "####\n",
    "5. **host_trust_score** - A new feature as a metric of host activities on Airbnb.\n",
    "     * We will use host activity information from columns- host_has_profile_pic, host_identity_verified, host_response_rate to create a host trust score metric.\n",
    "     * If host has a profile pic --> +1, host identity is verified --> +1, host response rate --> from 0 to 1. And 0 if the data is missing.\n",
    "     * Therefore this score will range from 0 to 3 where greater number means a trust worthy host."
   ]
  },
  {
   "cell_type": "code",
   "execution_count": 80,
   "id": "3ae44831-41fa-4d72-91b1-48a912e96217",
   "metadata": {},
   "outputs": [],
   "source": [
    "df_feat[\"host_trust_score\"] = (\n",
    "    df_feat[\"host_has_profile_pic\"].map({'t': 1, 'f': 0, -1:0}) +\n",
    "    df_feat[\"host_identity_verified\"].map({'t': 1, 'f': 0, -1:0}) +\n",
    "    df_feat[\"host_response_rate\"]/ 100\n",
    ")"
   ]
  },
  {
   "cell_type": "code",
   "execution_count": 81,
   "id": "c8a51674-8e82-4a78-97bd-7f154ae5d5e4",
   "metadata": {},
   "outputs": [
    {
     "data": {
      "text/plain": [
       "log_price                 0\n",
       "property_type             0\n",
       "room_type                 0\n",
       "accommodates              0\n",
       "bathrooms                 0\n",
       "bed_type                  0\n",
       "cancellation_policy       0\n",
       "cleaning_fee              0\n",
       "city                      0\n",
       "host_has_profile_pic      0\n",
       "host_identity_verified    0\n",
       "host_response_rate        0\n",
       "instant_bookable          0\n",
       "neighbourhood             0\n",
       "number_of_reviews         0\n",
       "review_scores_rating      0\n",
       "bedrooms                  0\n",
       "beds                      0\n",
       "counts_of_amenities       0\n",
       "has_review                0\n",
       "missing_review_date       0\n",
       "review_span               0\n",
       "host_since_days           0\n",
       "joined_date               0\n",
       "dist_from_centre          0\n",
       "host_trust_score          0\n",
       "dtype: int64"
      ]
     },
     "execution_count": 81,
     "metadata": {},
     "output_type": "execute_result"
    }
   ],
   "source": [
    "df_feat.isnull().sum()"
   ]
  },
  {
   "attachments": {},
   "cell_type": "markdown",
   "id": "f703dcc9-f32c-48ff-976a-9ddda16ce482",
   "metadata": {},
   "source": [
    "#\n",
    "#### Part 2 : Feature encoding\n",
    "\n",
    "To start working with encoding we should know which column falls under which category (nominal, ordinal). By deciding the same we can choose an encoding method.\n",
    " * In the updated data we have 27 columns and categorical data columns are as,\n",
    "     * **Nominal** - property_type, room_type, bed_type, cleaning_fee, city, host_has_profile_pic, host_identity_verified, instant_bookable, neighbourhood, zipcode (numerical form but treat like categories).\n",
    "     * **Ordinal** - cancellation_policy.\n",
    " * Label encoding imposes an arbitrary order on categorical data, which can be misleading. So we will use **One-Hot encoding** method for nominal data and **Label encoding** for ordinal data.\n",
    " * One-hot encoding can lead to high dimensionality with many unique categories and can also cause multicollinearity. In order to overcome the problem of multicollinearity, one of the dummy variables has to be dropped and to overcome the problem of high dimensionality in case any column has large number of unique values, we will use **Frequency encoding** method."
   ]
  },
  {
   "cell_type": "code",
   "execution_count": 83,
   "id": "0c3a0be9-b125-461d-a0ec-8d207de1fdec",
   "metadata": {},
   "outputs": [
    {
     "data": {
      "text/plain": [
       "property_type              35\n",
       "room_type                   3\n",
       "bed_type                    5\n",
       "cleaning_fee                2\n",
       "city                        6\n",
       "host_has_profile_pic        3\n",
       "host_identity_verified      3\n",
       "instant_bookable            2\n",
       "neighbourhood             620\n",
       "dtype: int64"
      ]
     },
     "execution_count": 83,
     "metadata": {},
     "output_type": "execute_result"
    }
   ],
   "source": [
    "nominal_cols = [\"property_type\", \"room_type\", \"bed_type\", \"cleaning_fee\", \"city\", \"host_has_profile_pic\", \"host_identity_verified\", \"instant_bookable\", \"neighbourhood\"]\n",
    "df_feat[nominal_cols].nunique()"
   ]
  },
  {
   "cell_type": "markdown",
   "id": "230c8c60-e579-4033-946d-35d606354123",
   "metadata": {},
   "source": [
    "#####\n",
    "* Here, we can notice that property_type and neighbourhood columns have huge number of unique values. Using one-hot encoding can be challenging. For these two columns we will use frequency encoding.\n",
    "* For columns with True/False or t/f values (cleaning_fee, host_has_profile_pic, host_identity_verified, instant_bookable) we will directly convert these values as 1/0.\n",
    "* And for remaining columns we will use one-hot encoding.\n",
    "* The values in cancellation_policy column shows ordinal relationship (flexible < moderate < strict < --). Hence we will use label encoding for this column."
   ]
  },
  {
   "cell_type": "code",
   "execution_count": 85,
   "id": "896362b7-75e3-4018-8e47-22c8fa0f430c",
   "metadata": {},
   "outputs": [],
   "source": [
    "one_hot_cols = [\"room_type\", \"bed_type\", \"city\"]\n",
    "label_cols = [\"cancellation_policy\"]\n",
    "freq_cols = [\"property_type\", \"neighbourhood\"]\n",
    "binary_cols = [\"cleaning_fee\", \"host_has_profile_pic\", \"host_identity_verified\", \"instant_bookable\"]"
   ]
  },
  {
   "cell_type": "code",
   "execution_count": 86,
   "id": "dc3832a0-a083-44d9-97d5-1a0818959fe3",
   "metadata": {},
   "outputs": [],
   "source": [
    "df_encoded = df_feat.copy()\n",
    "\n",
    "for col in freq_cols:\n",
    "    freq = df_encoded[col].value_counts(normalize=True)\n",
    "    df_encoded[col] = df_encoded[col].map(freq)\n",
    "\n",
    "\n",
    "ordinal_order = ['flexible', 'moderate', 'strict', 'super_strict_30', 'super_strict_60']\n",
    "df_encoded[\"cancellation_policy\"] = df_encoded[\"cancellation_policy\"].map({v: i for i, v in enumerate(ordinal_order)})\n",
    "\n",
    "\n",
    "for col in binary_cols:\n",
    "    df_encoded[col] = df_encoded[col].map({\"t\": 1, \"f\": 0, -1:-1, True: 1, False: 0})\n",
    "\n",
    "\n",
    "df_encoded = pd.get_dummies(df_encoded, columns=one_hot_cols, drop_first=True, dtype='int')"
   ]
  },
  {
   "cell_type": "code",
   "execution_count": 87,
   "id": "b058da70-d31e-46c4-bdf4-1004dda501b3",
   "metadata": {},
   "outputs": [
    {
     "data": {
      "text/html": [
       "<div>\n",
       "<style scoped>\n",
       "    .dataframe tbody tr th:only-of-type {\n",
       "        vertical-align: middle;\n",
       "    }\n",
       "\n",
       "    .dataframe tbody tr th {\n",
       "        vertical-align: top;\n",
       "    }\n",
       "\n",
       "    .dataframe thead th {\n",
       "        text-align: right;\n",
       "    }\n",
       "</style>\n",
       "<table border=\"1\" class=\"dataframe\">\n",
       "  <thead>\n",
       "    <tr style=\"text-align: right;\">\n",
       "      <th></th>\n",
       "      <th>log_price</th>\n",
       "      <th>property_type</th>\n",
       "      <th>accommodates</th>\n",
       "      <th>bathrooms</th>\n",
       "      <th>cancellation_policy</th>\n",
       "      <th>cleaning_fee</th>\n",
       "      <th>host_has_profile_pic</th>\n",
       "      <th>host_identity_verified</th>\n",
       "      <th>host_response_rate</th>\n",
       "      <th>instant_bookable</th>\n",
       "      <th>...</th>\n",
       "      <th>room_type_Shared room</th>\n",
       "      <th>bed_type_Couch</th>\n",
       "      <th>bed_type_Futon</th>\n",
       "      <th>bed_type_Pull-out Sofa</th>\n",
       "      <th>bed_type_Real Bed</th>\n",
       "      <th>city_Chicago</th>\n",
       "      <th>city_DC</th>\n",
       "      <th>city_LA</th>\n",
       "      <th>city_NYC</th>\n",
       "      <th>city_SF</th>\n",
       "    </tr>\n",
       "  </thead>\n",
       "  <tbody>\n",
       "    <tr>\n",
       "      <th>0</th>\n",
       "      <td>5.010635</td>\n",
       "      <td>0.66122</td>\n",
       "      <td>3</td>\n",
       "      <td>1</td>\n",
       "      <td>2</td>\n",
       "      <td>1</td>\n",
       "      <td>1</td>\n",
       "      <td>1</td>\n",
       "      <td>100.0</td>\n",
       "      <td>0</td>\n",
       "      <td>...</td>\n",
       "      <td>0</td>\n",
       "      <td>0</td>\n",
       "      <td>0</td>\n",
       "      <td>0</td>\n",
       "      <td>1</td>\n",
       "      <td>0</td>\n",
       "      <td>0</td>\n",
       "      <td>0</td>\n",
       "      <td>1</td>\n",
       "      <td>0</td>\n",
       "    </tr>\n",
       "    <tr>\n",
       "      <th>1</th>\n",
       "      <td>5.129899</td>\n",
       "      <td>0.66122</td>\n",
       "      <td>7</td>\n",
       "      <td>1</td>\n",
       "      <td>2</td>\n",
       "      <td>1</td>\n",
       "      <td>1</td>\n",
       "      <td>0</td>\n",
       "      <td>100.0</td>\n",
       "      <td>1</td>\n",
       "      <td>...</td>\n",
       "      <td>0</td>\n",
       "      <td>0</td>\n",
       "      <td>0</td>\n",
       "      <td>0</td>\n",
       "      <td>1</td>\n",
       "      <td>0</td>\n",
       "      <td>0</td>\n",
       "      <td>0</td>\n",
       "      <td>1</td>\n",
       "      <td>0</td>\n",
       "    </tr>\n",
       "    <tr>\n",
       "      <th>2</th>\n",
       "      <td>4.976734</td>\n",
       "      <td>0.66122</td>\n",
       "      <td>5</td>\n",
       "      <td>1</td>\n",
       "      <td>1</td>\n",
       "      <td>1</td>\n",
       "      <td>1</td>\n",
       "      <td>1</td>\n",
       "      <td>100.0</td>\n",
       "      <td>1</td>\n",
       "      <td>...</td>\n",
       "      <td>0</td>\n",
       "      <td>0</td>\n",
       "      <td>0</td>\n",
       "      <td>0</td>\n",
       "      <td>1</td>\n",
       "      <td>0</td>\n",
       "      <td>0</td>\n",
       "      <td>0</td>\n",
       "      <td>1</td>\n",
       "      <td>0</td>\n",
       "    </tr>\n",
       "    <tr>\n",
       "      <th>3</th>\n",
       "      <td>6.620073</td>\n",
       "      <td>0.22279</td>\n",
       "      <td>4</td>\n",
       "      <td>1</td>\n",
       "      <td>0</td>\n",
       "      <td>1</td>\n",
       "      <td>1</td>\n",
       "      <td>1</td>\n",
       "      <td>100.0</td>\n",
       "      <td>0</td>\n",
       "      <td>...</td>\n",
       "      <td>0</td>\n",
       "      <td>0</td>\n",
       "      <td>0</td>\n",
       "      <td>0</td>\n",
       "      <td>1</td>\n",
       "      <td>0</td>\n",
       "      <td>0</td>\n",
       "      <td>0</td>\n",
       "      <td>0</td>\n",
       "      <td>1</td>\n",
       "    </tr>\n",
       "    <tr>\n",
       "      <th>4</th>\n",
       "      <td>4.744932</td>\n",
       "      <td>0.66122</td>\n",
       "      <td>2</td>\n",
       "      <td>1</td>\n",
       "      <td>1</td>\n",
       "      <td>1</td>\n",
       "      <td>1</td>\n",
       "      <td>1</td>\n",
       "      <td>100.0</td>\n",
       "      <td>1</td>\n",
       "      <td>...</td>\n",
       "      <td>0</td>\n",
       "      <td>0</td>\n",
       "      <td>0</td>\n",
       "      <td>0</td>\n",
       "      <td>1</td>\n",
       "      <td>0</td>\n",
       "      <td>1</td>\n",
       "      <td>0</td>\n",
       "      <td>0</td>\n",
       "      <td>0</td>\n",
       "    </tr>\n",
       "  </tbody>\n",
       "</table>\n",
       "<p>5 rows × 34 columns</p>\n",
       "</div>"
      ],
      "text/plain": [
       "   log_price  property_type  accommodates  bathrooms  cancellation_policy  \\\n",
       "0   5.010635        0.66122             3          1                    2   \n",
       "1   5.129899        0.66122             7          1                    2   \n",
       "2   4.976734        0.66122             5          1                    1   \n",
       "3   6.620073        0.22279             4          1                    0   \n",
       "4   4.744932        0.66122             2          1                    1   \n",
       "\n",
       "   cleaning_fee  host_has_profile_pic  host_identity_verified  \\\n",
       "0             1                     1                       1   \n",
       "1             1                     1                       0   \n",
       "2             1                     1                       1   \n",
       "3             1                     1                       1   \n",
       "4             1                     1                       1   \n",
       "\n",
       "   host_response_rate  instant_bookable  ...  room_type_Shared room  \\\n",
       "0               100.0                 0  ...                      0   \n",
       "1               100.0                 1  ...                      0   \n",
       "2               100.0                 1  ...                      0   \n",
       "3               100.0                 0  ...                      0   \n",
       "4               100.0                 1  ...                      0   \n",
       "\n",
       "   bed_type_Couch  bed_type_Futon  bed_type_Pull-out Sofa  bed_type_Real Bed  \\\n",
       "0               0               0                       0                  1   \n",
       "1               0               0                       0                  1   \n",
       "2               0               0                       0                  1   \n",
       "3               0               0                       0                  1   \n",
       "4               0               0                       0                  1   \n",
       "\n",
       "   city_Chicago  city_DC  city_LA  city_NYC  city_SF  \n",
       "0             0        0        0         1        0  \n",
       "1             0        0        0         1        0  \n",
       "2             0        0        0         1        0  \n",
       "3             0        0        0         0        1  \n",
       "4             0        1        0         0        0  \n",
       "\n",
       "[5 rows x 34 columns]"
      ]
     },
     "execution_count": 87,
     "metadata": {},
     "output_type": "execute_result"
    }
   ],
   "source": [
    "df_encoded.head()"
   ]
  },
  {
   "cell_type": "code",
   "execution_count": 88,
   "id": "cf7e12b2-4b1d-44d8-9288-07ef12c95354",
   "metadata": {},
   "outputs": [
    {
     "name": "stdout",
     "output_type": "stream",
     "text": [
      "<class 'pandas.core.frame.DataFrame'>\n",
      "Index: 74110 entries, 0 to 74110\n",
      "Data columns (total 34 columns):\n",
      " #   Column                  Non-Null Count  Dtype  \n",
      "---  ------                  --------------  -----  \n",
      " 0   log_price               74110 non-null  float64\n",
      " 1   property_type           74110 non-null  float64\n",
      " 2   accommodates            74110 non-null  int64  \n",
      " 3   bathrooms               74110 non-null  Int64  \n",
      " 4   cancellation_policy     74110 non-null  int64  \n",
      " 5   cleaning_fee            74110 non-null  int64  \n",
      " 6   host_has_profile_pic    74110 non-null  int64  \n",
      " 7   host_identity_verified  74110 non-null  int64  \n",
      " 8   host_response_rate      74110 non-null  float64\n",
      " 9   instant_bookable        74110 non-null  int64  \n",
      " 10  neighbourhood           74110 non-null  float64\n",
      " 11  number_of_reviews       74110 non-null  int64  \n",
      " 12  review_scores_rating    74110 non-null  float64\n",
      " 13  bedrooms                74110 non-null  Int64  \n",
      " 14  beds                    74110 non-null  Int64  \n",
      " 15  counts_of_amenities     74110 non-null  int64  \n",
      " 16  has_review              74110 non-null  int32  \n",
      " 17  missing_review_date     74110 non-null  int32  \n",
      " 18  review_span             74110 non-null  float64\n",
      " 19  host_since_days         74110 non-null  float64\n",
      " 20  joined_date             74110 non-null  int32  \n",
      " 21  dist_from_centre        74110 non-null  float64\n",
      " 22  host_trust_score        74110 non-null  float64\n",
      " 23  room_type_Private room  74110 non-null  int32  \n",
      " 24  room_type_Shared room   74110 non-null  int32  \n",
      " 25  bed_type_Couch          74110 non-null  int32  \n",
      " 26  bed_type_Futon          74110 non-null  int32  \n",
      " 27  bed_type_Pull-out Sofa  74110 non-null  int32  \n",
      " 28  bed_type_Real Bed       74110 non-null  int32  \n",
      " 29  city_Chicago            74110 non-null  int32  \n",
      " 30  city_DC                 74110 non-null  int32  \n",
      " 31  city_LA                 74110 non-null  int32  \n",
      " 32  city_NYC                74110 non-null  int32  \n",
      " 33  city_SF                 74110 non-null  int32  \n",
      "dtypes: Int64(3), float64(9), int32(14), int64(8)\n",
      "memory usage: 16.0 MB\n"
     ]
    }
   ],
   "source": [
    "df_encoded.info()"
   ]
  },
  {
   "cell_type": "markdown",
   "id": "13668f7b-fd4c-4ea3-ab7d-da0ed3ff6007",
   "metadata": {},
   "source": [
    "#\n",
    "#### Part 3 : Feature Transformation\n",
    "\n",
    " * As we discussed in Outliers Detection part, some of the existing features and newly created features need transformation.\n",
    " * I dont want to blindly remoce this contextual outliers which are holding some important information about extreme cases. Like high numbers of bedrooms and beds in some properties.\n",
    " * These features follow a skewed distribution which we can notice with the help of boxplots.\n",
    " * By applying some transformations to these skewed variables, we can map this skewed distribution to a normal distribution at some extent and it will decrease the variable range so, this can increase the performance of our models.\n",
    " * Log1p transformtion is one of the important methods that I am using here, it also handles 0 and nearly zero values."
   ]
  },
  {
   "cell_type": "code",
   "execution_count": 90,
   "id": "a55d3415-7759-499f-b93c-2be9dcf7d447",
   "metadata": {},
   "outputs": [],
   "source": [
    "numerical_cols.extend(['review_span', 'host_since_days', 'dist_from_centre', 'host_trust_score'])"
   ]
  },
  {
   "cell_type": "code",
   "execution_count": 91,
   "id": "5b6d44fb-aec5-47c0-ab39-b4314b6c8463",
   "metadata": {},
   "outputs": [
    {
     "data": {
      "image/png": "[encoded data removed]",
      "text/plain": [
       "<Figure size 1200x600 with 12 Axes>"
      ]
     },
     "metadata": {},
     "output_type": "display_data"
    }
   ],
   "source": [
    "plt.figure(figsize = (12,6))\n",
    "for i, col in enumerate(df_encoded[numerical_cols]):\n",
    "    plt.subplot(2,6, i+1)\n",
    "    sns.boxplot(df_encoded[col])\n",
    "    plt.title(col)\n",
    "plt.tight_layout()\n",
    "plt.show()"
   ]
  },
  {
   "cell_type": "code",
   "execution_count": 92,
   "id": "c50dffd9-7f59-4f50-a402-4036b9d399e7",
   "metadata": {},
   "outputs": [],
   "source": [
    "cols_to_transform = ['accommodates', 'bathrooms', 'host_response_rate', 'number_of_reviews',\n",
    "                     'review_scores_rating', 'bedrooms', 'beds', 'review_span', 'host_since_days', 'dist_from_centre']\n",
    "\n",
    "for col in cols_to_transform:\n",
    "    df_encoded[f'{col}_log'] = np.log1p(df_encoded[col])"
   ]
  },
  {
   "cell_type": "code",
   "execution_count": 93,
   "id": "7cb9fe8d-15f6-47ef-b9f3-ea5a40f68476",
   "metadata": {},
   "outputs": [
    {
     "data": {
      "text/html": [
       "<div>\n",
       "<style scoped>\n",
       "    .dataframe tbody tr th:only-of-type {\n",
       "        vertical-align: middle;\n",
       "    }\n",
       "\n",
       "    .dataframe tbody tr th {\n",
       "        vertical-align: top;\n",
       "    }\n",
       "\n",
       "    .dataframe thead th {\n",
       "        text-align: right;\n",
       "    }\n",
       "</style>\n",
       "<table border=\"1\" class=\"dataframe\">\n",
       "  <thead>\n",
       "    <tr style=\"text-align: right;\">\n",
       "      <th></th>\n",
       "      <th>log_price</th>\n",
       "      <th>property_type</th>\n",
       "      <th>accommodates</th>\n",
       "      <th>bathrooms</th>\n",
       "      <th>cancellation_policy</th>\n",
       "      <th>cleaning_fee</th>\n",
       "      <th>host_has_profile_pic</th>\n",
       "      <th>host_identity_verified</th>\n",
       "      <th>host_response_rate</th>\n",
       "      <th>instant_bookable</th>\n",
       "      <th>...</th>\n",
       "      <th>accommodates_log</th>\n",
       "      <th>bathrooms_log</th>\n",
       "      <th>host_response_rate_log</th>\n",
       "      <th>number_of_reviews_log</th>\n",
       "      <th>review_scores_rating_log</th>\n",
       "      <th>bedrooms_log</th>\n",
       "      <th>beds_log</th>\n",
       "      <th>review_span_log</th>\n",
       "      <th>host_since_days_log</th>\n",
       "      <th>dist_from_centre_log</th>\n",
       "    </tr>\n",
       "  </thead>\n",
       "  <tbody>\n",
       "    <tr>\n",
       "      <th>0</th>\n",
       "      <td>5.010635</td>\n",
       "      <td>0.66122</td>\n",
       "      <td>3</td>\n",
       "      <td>1</td>\n",
       "      <td>2</td>\n",
       "      <td>1</td>\n",
       "      <td>1</td>\n",
       "      <td>1</td>\n",
       "      <td>100.0</td>\n",
       "      <td>0</td>\n",
       "      <td>...</td>\n",
       "      <td>1.386294</td>\n",
       "      <td>0.693147</td>\n",
       "      <td>4.615121</td>\n",
       "      <td>1.098612</td>\n",
       "      <td>4.615121</td>\n",
       "      <td>0.693147</td>\n",
       "      <td>0.693147</td>\n",
       "      <td>3.433987</td>\n",
       "      <td>8.476996</td>\n",
       "      <td>1.156385</td>\n",
       "    </tr>\n",
       "    <tr>\n",
       "      <th>1</th>\n",
       "      <td>5.129899</td>\n",
       "      <td>0.66122</td>\n",
       "      <td>7</td>\n",
       "      <td>1</td>\n",
       "      <td>2</td>\n",
       "      <td>1</td>\n",
       "      <td>1</td>\n",
       "      <td>0</td>\n",
       "      <td>100.0</td>\n",
       "      <td>1</td>\n",
       "      <td>...</td>\n",
       "      <td>2.079442</td>\n",
       "      <td>0.693147</td>\n",
       "      <td>4.615121</td>\n",
       "      <td>1.945910</td>\n",
       "      <td>4.543295</td>\n",
       "      <td>1.386294</td>\n",
       "      <td>1.386294</td>\n",
       "      <td>3.912023</td>\n",
       "      <td>7.969704</td>\n",
       "      <td>1.959838</td>\n",
       "    </tr>\n",
       "    <tr>\n",
       "      <th>2</th>\n",
       "      <td>4.976734</td>\n",
       "      <td>0.66122</td>\n",
       "      <td>5</td>\n",
       "      <td>1</td>\n",
       "      <td>1</td>\n",
       "      <td>1</td>\n",
       "      <td>1</td>\n",
       "      <td>1</td>\n",
       "      <td>100.0</td>\n",
       "      <td>1</td>\n",
       "      <td>...</td>\n",
       "      <td>1.791759</td>\n",
       "      <td>0.693147</td>\n",
       "      <td>4.615121</td>\n",
       "      <td>2.397895</td>\n",
       "      <td>4.532599</td>\n",
       "      <td>0.693147</td>\n",
       "      <td>1.386294</td>\n",
       "      <td>4.927254</td>\n",
       "      <td>8.048469</td>\n",
       "      <td>2.551298</td>\n",
       "    </tr>\n",
       "    <tr>\n",
       "      <th>3</th>\n",
       "      <td>6.620073</td>\n",
       "      <td>0.22279</td>\n",
       "      <td>4</td>\n",
       "      <td>1</td>\n",
       "      <td>0</td>\n",
       "      <td>1</td>\n",
       "      <td>1</td>\n",
       "      <td>1</td>\n",
       "      <td>100.0</td>\n",
       "      <td>0</td>\n",
       "      <td>...</td>\n",
       "      <td>1.609438</td>\n",
       "      <td>0.693147</td>\n",
       "      <td>4.615121</td>\n",
       "      <td>0.000000</td>\n",
       "      <td>0.000000</td>\n",
       "      <td>1.098612</td>\n",
       "      <td>1.098612</td>\n",
       "      <td>0.000000</td>\n",
       "      <td>8.211754</td>\n",
       "      <td>0.751963</td>\n",
       "    </tr>\n",
       "    <tr>\n",
       "      <th>4</th>\n",
       "      <td>4.744932</td>\n",
       "      <td>0.66122</td>\n",
       "      <td>2</td>\n",
       "      <td>1</td>\n",
       "      <td>1</td>\n",
       "      <td>1</td>\n",
       "      <td>1</td>\n",
       "      <td>1</td>\n",
       "      <td>100.0</td>\n",
       "      <td>1</td>\n",
       "      <td>...</td>\n",
       "      <td>1.098612</td>\n",
       "      <td>0.693147</td>\n",
       "      <td>4.615121</td>\n",
       "      <td>1.609438</td>\n",
       "      <td>3.713572</td>\n",
       "      <td>0.693147</td>\n",
       "      <td>0.693147</td>\n",
       "      <td>6.432940</td>\n",
       "      <td>8.224967</td>\n",
       "      <td>1.117976</td>\n",
       "    </tr>\n",
       "  </tbody>\n",
       "</table>\n",
       "<p>5 rows × 44 columns</p>\n",
       "</div>"
      ],
      "text/plain": [
       "   log_price  property_type  accommodates  bathrooms  cancellation_policy  \\\n",
       "0   5.010635        0.66122             3          1                    2   \n",
       "1   5.129899        0.66122             7          1                    2   \n",
       "2   4.976734        0.66122             5          1                    1   \n",
       "3   6.620073        0.22279             4          1                    0   \n",
       "4   4.744932        0.66122             2          1                    1   \n",
       "\n",
       "   cleaning_fee  host_has_profile_pic  host_identity_verified  \\\n",
       "0             1                     1                       1   \n",
       "1             1                     1                       0   \n",
       "2             1                     1                       1   \n",
       "3             1                     1                       1   \n",
       "4             1                     1                       1   \n",
       "\n",
       "   host_response_rate  instant_bookable  ...  accommodates_log  bathrooms_log  \\\n",
       "0               100.0                 0  ...          1.386294       0.693147   \n",
       "1               100.0                 1  ...          2.079442       0.693147   \n",
       "2               100.0                 1  ...          1.791759       0.693147   \n",
       "3               100.0                 0  ...          1.609438       0.693147   \n",
       "4               100.0                 1  ...          1.098612       0.693147   \n",
       "\n",
       "   host_response_rate_log  number_of_reviews_log  review_scores_rating_log  \\\n",
       "0                4.615121               1.098612                  4.615121   \n",
       "1                4.615121               1.945910                  4.543295   \n",
       "2                4.615121               2.397895                  4.532599   \n",
       "3                4.615121               0.000000                  0.000000   \n",
       "4                4.615121               1.609438                  3.713572   \n",
       "\n",
       "   bedrooms_log  beds_log  review_span_log  host_since_days_log  \\\n",
       "0      0.693147  0.693147         3.433987             8.476996   \n",
       "1      1.386294  1.386294         3.912023             7.969704   \n",
       "2      0.693147  1.386294         4.927254             8.048469   \n",
       "3      1.098612  1.098612         0.000000             8.211754   \n",
       "4      0.693147  0.693147         6.432940             8.224967   \n",
       "\n",
       "   dist_from_centre_log  \n",
       "0              1.156385  \n",
       "1              1.959838  \n",
       "2              2.551298  \n",
       "3              0.751963  \n",
       "4              1.117976  \n",
       "\n",
       "[5 rows x 44 columns]"
      ]
     },
     "execution_count": 93,
     "metadata": {},
     "output_type": "execute_result"
    }
   ],
   "source": [
    "df_encoded.head(5)"
   ]
  },
  {
   "cell_type": "code",
   "execution_count": 94,
   "id": "2b1c553a-d492-4cc9-a560-a33f9434c4d5",
   "metadata": {},
   "outputs": [],
   "source": [
    "df_transformed = df_encoded.drop(cols_to_transform, axis = 1)"
   ]
  },
  {
   "cell_type": "code",
   "execution_count": 95,
   "id": "b76ee30c-1b55-4c97-b6b2-d3104010049d",
   "metadata": {},
   "outputs": [
    {
     "data": {
      "text/plain": [
       "(74110, 34)"
      ]
     },
     "execution_count": 95,
     "metadata": {},
     "output_type": "execute_result"
    }
   ],
   "source": [
    "df_transformed.shape"
   ]
  },
  {
   "cell_type": "code",
   "execution_count": 96,
   "id": "3a31535c-eeb0-4949-b0d8-e5237a4cd165",
   "metadata": {},
   "outputs": [
    {
     "data": {
      "image/png": "[encoded data removed]",
      "text/plain": [
       "<Figure size 1200x600 with 10 Axes>"
      ]
     },
     "metadata": {},
     "output_type": "display_data"
    }
   ],
   "source": [
    "cols = ['accommodates_log',\n",
    "       'bathrooms_log', 'host_response_rate_log', 'number_of_reviews_log',\n",
    "       'review_scores_rating_log', 'bedrooms_log', 'beds_log',\n",
    "       'review_span_log', 'host_since_days_log', 'dist_from_centre_log']\n",
    "\n",
    "plt.figure(figsize = (12,6))\n",
    "for i, col in enumerate(df_transformed[cols]):\n",
    "    plt.subplot(2,6, i+1)\n",
    "    sns.boxplot(df_transformed[col])\n",
    "    plt.title(col)\n",
    "plt.tight_layout()\n",
    "plt.show()"
   ]
  },
  {
   "cell_type": "markdown",
   "id": "7395bf3a-871c-4385-8b38-a39998f0e478",
   "metadata": {},
   "source": [
    "#\n",
    "#### Part 4 : Feature Scaling and Splitting our Data\n",
    " * After feature transformation it is important to scale our training and testing data.\n",
    " * To prevent data leakage we first split out data into training and testing test after whcih we will apply scalling as a standardisation method."
   ]
  },
  {
   "cell_type": "code",
   "execution_count": 98,
   "id": "47c1d384-0aa2-48b5-8c70-37b3c35641de",
   "metadata": {},
   "outputs": [],
   "source": [
    "from sklearn.model_selection import train_test_split\n",
    "\n",
    "y = df_transformed[\"log_price\"]\n",
    "x = df_transformed.drop(\"log_price\", axis = 1)\n",
    "\n",
    "x_train, x_test, y_train, y_test = train_test_split(x, y, test_size = 0.2, random_state = 0)"
   ]
  },
  {
   "cell_type": "code",
   "execution_count": 99,
   "id": "a2752d63-5385-49d9-88b1-d8268dd6fb81",
   "metadata": {},
   "outputs": [],
   "source": [
    "from sklearn.preprocessing import StandardScaler, RobustScaler\n",
    "\n",
    "scaler = RobustScaler()\n",
    "\n",
    "x_train_scaled = pd.DataFrame(\n",
    "    scaler.fit_transform(x_train),\n",
    "    columns=x_train.columns,\n",
    "    index=x_train.index\n",
    ")\n",
    "\n",
    "x_test_scaled = pd.DataFrame(\n",
    "    scaler.transform(x_test),\n",
    "    columns=x_test.columns,\n",
    "    index=x_test.index\n",
    ")"
   ]
  },
  {
   "cell_type": "markdown",
   "id": "2e47f12b-576f-42be-889e-0c63bb80c6b3",
   "metadata": {},
   "source": [
    "#### Part 5 : Feature Selection\n",
    " * We will apply **LassoCV** to perform automatic feature selection with cross-validation.\n",
    " * It will select features with **non-zero coefficients**, indicating their importance in predicting the target variable.\n",
    " * And helps reducing the dimensionality of the dataset to improve model interpretability and possibly performance."
   ]
  },
  {
   "cell_type": "code",
   "execution_count": 101,
   "id": "52d154c4-b6f9-46c0-99fa-dda7b0a8d25f",
   "metadata": {},
   "outputs": [],
   "source": [
    "from sklearn.linear_model import LassoCV\n",
    "\n",
    "# LassoCV\n",
    "lasso = LassoCV(cv=5, random_state=42)\n",
    "lasso.fit(x_train_scaled, y_train)\n",
    "\n",
    "# Selecting features\n",
    "selected_features = np.where(lasso.coef_ != 0)[0]\n",
    "\n",
    "# Reducing datasets\n",
    "x_train_selected = x_train_scaled.iloc[:, selected_features]\n",
    "x_test_selected = x_test_scaled.iloc[:, selected_features]"
   ]
  },
  {
   "cell_type": "code",
   "execution_count": 160,
   "id": "4fd25384-6b4f-43ca-b04f-63e859b6dcae",
   "metadata": {},
   "outputs": [
    {
     "data": {
      "text/plain": [
       "(59288, 33)"
      ]
     },
     "execution_count": 160,
     "metadata": {},
     "output_type": "execute_result"
    }
   ],
   "source": [
    "x_train_scaled.shape"
   ]
  },
  {
   "cell_type": "code",
   "execution_count": 162,
   "id": "b7a2488b-7cd2-4bde-99de-f2d9e62cc67c",
   "metadata": {},
   "outputs": [
    {
     "data": {
      "text/plain": [
       "(59288, 26)"
      ]
     },
     "execution_count": 162,
     "metadata": {},
     "output_type": "execute_result"
    }
   ],
   "source": [
    "x_train_selected.shape"
   ]
  },
  {
   "cell_type": "markdown",
   "id": "f27d15a2-f241-40d8-bee1-c195e9a0b644",
   "metadata": {},
   "source": [
    "##\n",
    "## Baseline Model Comparison"
   ]
  },
  {
   "cell_type": "markdown",
   "id": "3f4f88da-8201-4944-aba2-41ec596b7e97",
   "metadata": {},
   "source": [
    "#### Importing all necessary libraries for Modelling"
   ]
  },
  {
   "cell_type": "code",
   "execution_count": 223,
   "id": "a37bdb05-e302-408f-a578-eac9ea52dfef",
   "metadata": {},
   "outputs": [],
   "source": [
    "from sklearn.linear_model import LinearRegression\n",
    "from sklearn.neighbors import KNeighborsRegressor\n",
    "from sklearn.tree import DecisionTreeRegressor\n",
    "from sklearn.ensemble import RandomForestRegressor\n",
    "from sklearn.svm import SVR\n",
    "from xgboost import XGBRegressor\n",
    "from sklearn.ensemble import GradientBoostingRegressor\n",
    "\n",
    "from sklearn.model_selection import GridSearchCV\n",
    "from sklearn.model_selection import RandomizedSearchCV\n",
    "from sklearn.model_selection import cross_validate\n",
    "from sklearn.metrics import make_scorer, mean_absolute_error, mean_squared_error, r2_score\n",
    "import time"
   ]
  },
  {
   "cell_type": "markdown",
   "id": "4c09b563-e563-4ee5-b540-3910fde393e0",
   "metadata": {},
   "source": [
    "####\n",
    " * We will define a function to evaluate desired evaluation metrics for each model.\n",
    " * The considered Evaluation Metrics are : RMSE and R Square"
   ]
  },
  {
   "cell_type": "code",
   "execution_count": 225,
   "id": "19eef1b5-76f8-4d88-8ab9-2102529fc703",
   "metadata": {},
   "outputs": [],
   "source": [
    "def evaluate_model(model, x, y, cv=5):\n",
    "    scoring = {\n",
    "        'rmse': 'neg_root_mean_squared_error',\n",
    "        'r2': 'r2'\n",
    "    }\n",
    "\n",
    "    scores = cross_validate(model, x, y, scoring=scoring, cv=cv)\n",
    "\n",
    "    mean_rmse = -np.mean(scores['test_rmse'])  # Negated because sklearn uses negative RMSE\n",
    "    std_rmse = np.std(scores['test_rmse'])\n",
    "\n",
    "    mean_r2 = np.mean(scores['test_r2'])\n",
    "    std_r2 = np.std(scores['test_r2'])\n",
    "\n",
    "    return mean_rmse, std_rmse, mean_r2, std_r2"
   ]
  },
  {
   "cell_type": "markdown",
   "id": "3b6ee60c-40b0-4642-980e-f2c68c38efbe",
   "metadata": {},
   "source": [
    "####\n",
    "#### To finalize the best fit model we will evaluate all these models based on the defined metrics"
   ]
  },
  {
   "cell_type": "code",
   "execution_count": 234,
   "id": "7d82e311-6568-44c5-85a0-4dee1f86802c",
   "metadata": {},
   "outputs": [
    {
     "data": {
      "text/html": [
       "<div>\n",
       "<style scoped>\n",
       "    .dataframe tbody tr th:only-of-type {\n",
       "        vertical-align: middle;\n",
       "    }\n",
       "\n",
       "    .dataframe tbody tr th {\n",
       "        vertical-align: top;\n",
       "    }\n",
       "\n",
       "    .dataframe thead th {\n",
       "        text-align: right;\n",
       "    }\n",
       "</style>\n",
       "<table border=\"1\" class=\"dataframe\">\n",
       "  <thead>\n",
       "    <tr style=\"text-align: right;\">\n",
       "      <th></th>\n",
       "      <th>Model</th>\n",
       "      <th>RMSE Mean</th>\n",
       "      <th>RMSE Std</th>\n",
       "      <th>R2 Mean</th>\n",
       "      <th>R2 Std</th>\n",
       "      <th>Building Time (s)</th>\n",
       "    </tr>\n",
       "  </thead>\n",
       "  <tbody>\n",
       "    <tr>\n",
       "      <th>4</th>\n",
       "      <td>XGBoost</td>\n",
       "      <td>0.394248</td>\n",
       "      <td>0.003580</td>\n",
       "      <td>0.696768</td>\n",
       "      <td>0.003701</td>\n",
       "      <td>1.772150</td>\n",
       "    </tr>\n",
       "    <tr>\n",
       "      <th>3</th>\n",
       "      <td>RandomForest</td>\n",
       "      <td>0.409795</td>\n",
       "      <td>0.004451</td>\n",
       "      <td>0.672363</td>\n",
       "      <td>0.006048</td>\n",
       "      <td>177.863431</td>\n",
       "    </tr>\n",
       "    <tr>\n",
       "      <th>5</th>\n",
       "      <td>GradientBoosting</td>\n",
       "      <td>0.420532</td>\n",
       "      <td>0.003866</td>\n",
       "      <td>0.654985</td>\n",
       "      <td>0.004604</td>\n",
       "      <td>34.428812</td>\n",
       "    </tr>\n",
       "    <tr>\n",
       "      <th>0</th>\n",
       "      <td>LinearRegression</td>\n",
       "      <td>0.463549</td>\n",
       "      <td>0.003476</td>\n",
       "      <td>0.580793</td>\n",
       "      <td>0.004415</td>\n",
       "      <td>0.209357</td>\n",
       "    </tr>\n",
       "    <tr>\n",
       "      <th>1</th>\n",
       "      <td>KNN</td>\n",
       "      <td>0.469245</td>\n",
       "      <td>0.005280</td>\n",
       "      <td>0.570389</td>\n",
       "      <td>0.008897</td>\n",
       "      <td>9.641887</td>\n",
       "    </tr>\n",
       "    <tr>\n",
       "      <th>2</th>\n",
       "      <td>DecisionTree</td>\n",
       "      <td>0.581357</td>\n",
       "      <td>0.003275</td>\n",
       "      <td>0.340604</td>\n",
       "      <td>0.008426</td>\n",
       "      <td>3.083115</td>\n",
       "    </tr>\n",
       "  </tbody>\n",
       "</table>\n",
       "</div>"
      ],
      "text/plain": [
       "              Model  RMSE Mean  RMSE Std   R2 Mean    R2 Std  \\\n",
       "4           XGBoost   0.394248  0.003580  0.696768  0.003701   \n",
       "3      RandomForest   0.409795  0.004451  0.672363  0.006048   \n",
       "5  GradientBoosting   0.420532  0.003866  0.654985  0.004604   \n",
       "0  LinearRegression   0.463549  0.003476  0.580793  0.004415   \n",
       "1               KNN   0.469245  0.005280  0.570389  0.008897   \n",
       "2      DecisionTree   0.581357  0.003275  0.340604  0.008426   \n",
       "\n",
       "   Building Time (s)  \n",
       "4           1.772150  \n",
       "3         177.863431  \n",
       "5          34.428812  \n",
       "0           0.209357  \n",
       "1           9.641887  \n",
       "2           3.083115  "
      ]
     },
     "execution_count": 234,
     "metadata": {},
     "output_type": "execute_result"
    }
   ],
   "source": [
    "models = {\n",
    "    'LinearRegression': LinearRegression(),\n",
    "    'KNN': KNeighborsRegressor(),\n",
    "    'DecisionTree': DecisionTreeRegressor(),\n",
    "    'RandomForest': RandomForestRegressor(),\n",
    "    #'SVR': SVR(),\n",
    "    'XGBoost': XGBRegressor(),\n",
    "    'GradientBoosting': GradientBoostingRegressor()\n",
    "}\n",
    "\n",
    "results = {\n",
    "    'Model' : [],\n",
    "    'RMSE Mean' : [],\n",
    "    'RMSE Std' : [],\n",
    "    'R2 Mean' : [],\n",
    "    'R2 Std' : [],\n",
    "    'Building Time (s)' : []\n",
    "}\n",
    "\n",
    "for name, model in models.items():\n",
    "    start_time = time.time()\n",
    "    \n",
    "    mean_rmse, std_rmse, mean_r2, std_r2 = evaluate_model(model, x_train_selected, y_train)\n",
    "    \n",
    "    end_time = time.time()\n",
    "    building_time = end_time - start_time\n",
    "\n",
    "    \n",
    "    results['Model'].append(name)\n",
    "    results['RMSE Mean'].append(mean_rmse)\n",
    "    results['RMSE Std'].append(std_rmse)\n",
    "    results['R2 Mean'].append(mean_r2)\n",
    "    results['R2 Std'].append(std_r2)\n",
    "    results['Building Time (s)'].append(building_time)\n",
    "\n",
    "Evaluations = pd.DataFrame(results)\n",
    "Evaluations.sort_values(by = ['R2 Mean', 'RMSE Mean'], ascending = False)"
   ]
  },
  {
   "cell_type": "markdown",
   "id": "ad91ee29-b3d3-44dc-8fde-eb2d6682f772",
   "metadata": {},
   "source": [
    "######\n",
    "**Conclusion** -\n",
    "   * As we can notice here **XGBoost** is the best candidate here with highest R2 score and lowest RMSE.\n",
    "   * Followed by **RandomForest** and **GradientBoosting**.\n",
    "   * We will select these 3 algorithms for further modelling, all the other models are with comparatively low R2 and high error."
   ]
  },
  {
   "cell_type": "markdown",
   "id": "ddd9d05a-113a-4e71-8991-7efc0ddeb64e",
   "metadata": {},
   "source": [
    "#\n",
    "## Model Optimization - Hyperparameter Tuning"
   ]
  },
  {
   "cell_type": "markdown",
   "id": "55a82a12-caa4-452f-9911-7bdd702edf70",
   "metadata": {},
   "source": [
    "#### For Random Forest Regression"
   ]
  },
  {
   "cell_type": "code",
   "execution_count": 249,
   "id": "42c1aa27-8e41-4ddd-a1c3-7c4b94a3709a",
   "metadata": {},
   "outputs": [
    {
     "name": "stdout",
     "output_type": "stream",
     "text": [
      "Fitting 3 folds for each of 65 candidates, totalling 195 fits\n"
     ]
    }
   ],
   "source": [
    "param_dist = {\n",
    "    'n_estimators': [100, 200, 300],\n",
    "    'max_depth': [None, 5, 10, 20],\n",
    "    'min_samples_split': [2, 5, 10],\n",
    "    'min_samples_leaf': [1, 2, 4],\n",
    "    'max_features': ['auto', 'sqrt', 'log2'],\n",
    "    'bootstrap': [True, False]\n",
    "}\n",
    "\n",
    "random_search = RandomizedSearchCV(\n",
    "    estimator= RandomForestRegressor(),\n",
    "    param_distributions=param_dist,\n",
    "    n_iter=65,\n",
    "    scoring='neg_root_mean_squared_error',\n",
    "    cv=3,\n",
    "    verbose=1,\n",
    "    random_state=101,\n",
    "    n_jobs=-1\n",
    ")\n",
    "\n",
    "random_search.fit(x_train_selected, y_train)\n",
    "best_rfr = random_search.best_estimator_"
   ]
  },
  {
   "cell_type": "markdown",
   "id": "1eeeda16-ecb3-46d9-af43-6be5071f364a",
   "metadata": {},
   "source": [
    "####\n",
    "#### XGBoost Regression"
   ]
  },
  {
   "cell_type": "code",
   "execution_count": 258,
   "id": "7b0bee05-5da1-462f-b2b7-734ab6be3883",
   "metadata": {},
   "outputs": [
    {
     "name": "stdout",
     "output_type": "stream",
     "text": [
      "Fitting 3 folds for each of 70 candidates, totalling 210 fits\n"
     ]
    }
   ],
   "source": [
    "param_dist = {\n",
    "    'n_estimators': [100, 200, 300],\n",
    "    'max_depth': [3, 5, 7, 10],\n",
    "    'learning_rate': [0.01, 0.05, 0.1],\n",
    "    'subsample': [0.6, 0.8, 1.0],\n",
    "    'colsample_bytree': [0.6, 0.8, 1.0],\n",
    "    'gamma': [0, 0.1, 0.3, 0.5],\n",
    "    'reg_alpha': [0, 0.01, 0.1],\n",
    "    'reg_lambda': [1, 1.5, 2.0]\n",
    "}\n",
    "\n",
    "random_search = RandomizedSearchCV(\n",
    "    estimator= XGBRegressor(),\n",
    "    param_distributions=param_dist,\n",
    "    n_iter=70,\n",
    "    scoring='neg_root_mean_squared_error',\n",
    "    cv=3,\n",
    "    verbose=1,\n",
    "    random_state=101,\n",
    "    n_jobs=-1\n",
    ")\n",
    "\n",
    "random_search.fit(x_train_selected, y_train)\n",
    "best_xgbr = random_search.best_estimator_"
   ]
  },
  {
   "cell_type": "markdown",
   "id": "382ca1af-27dd-477c-bd3b-1041d7ecdcb5",
   "metadata": {},
   "source": [
    "####\n",
    "#### For GradientBoost Regression"
   ]
  },
  {
   "cell_type": "code",
   "execution_count": 261,
   "id": "8f843b66-8b2a-4c3f-b191-2bd42d3db305",
   "metadata": {},
   "outputs": [
    {
     "name": "stdout",
     "output_type": "stream",
     "text": [
      "Fitting 3 folds for each of 65 candidates, totalling 195 fits\n"
     ]
    }
   ],
   "source": [
    "param_dist = {\n",
    "    'n_estimators': [100, 200, 300],\n",
    "    'learning_rate': [0.01, 0.05, 0.1],\n",
    "    'max_depth': [3, 5, 7],\n",
    "    'min_samples_split': [2, 5, 10],\n",
    "    'min_samples_leaf': [1, 2, 4],\n",
    "    'subsample': [0.6, 0.8, 1.0],\n",
    "    'max_features': ['auto', 'sqrt', 'log2']\n",
    "}\n",
    "\n",
    "random_search = RandomizedSearchCV(\n",
    "    estimator= GradientBoostingRegressor(),\n",
    "    param_distributions=param_dist,\n",
    "    n_iter=65,\n",
    "    scoring='neg_root_mean_squared_error',\n",
    "    cv=3,\n",
    "    verbose=1,\n",
    "    random_state=101,\n",
    "    n_jobs=-1\n",
    ")\n",
    "\n",
    "random_search.fit(x_train_selected, y_train)\n",
    "best_gbr = random_search.best_estimator_"
   ]
  },
  {
   "cell_type": "markdown",
   "id": "1e617c06-fd7f-46ff-84ee-cadfe77924dc",
   "metadata": {},
   "source": [
    "##\n",
    "## Model Selection\n",
    "\n",
    "We processed hyperparameter tuning with selected regression algorithms and all optimized models are selected in **best_[model]** variable.\n",
    "Now we will train our models on training data and evaluate them based on evaluation metrics. The model with high accuracy and low error will be our final model."
   ]
  },
  {
   "cell_type": "markdown",
   "id": "cb319d5f-c85d-4375-b0a8-266c693b2465",
   "metadata": {},
   "source": [
    "####\n",
    "#### 1. Random Forest Regression Model"
   ]
  },
  {
   "cell_type": "code",
   "execution_count": 265,
   "id": "4f4de165-8efb-47a8-a711-21e17f18db16",
   "metadata": {},
   "outputs": [],
   "source": [
    "best_rfr.fit(x_train_selected, y_train)\n",
    "\n",
    "rfr_y_pred = best_rfr.predict(x_test_selected)\n",
    "\n",
    "r2_rfr = r2_score(y_test, rfr_y_pred)\n",
    "mae_rfr = mean_absolute_error(y_test, rfr_y_pred)\n",
    "rmse_rfr = np.sqrt(mean_squared_error(y_test, rfr_y_pred))"
   ]
  },
  {
   "cell_type": "markdown",
   "id": "ee8fdf8a-78b9-4a79-a80c-431c358bee3c",
   "metadata": {},
   "source": [
    "####\n",
    "#### 2. XGBoost Regression Model"
   ]
  },
  {
   "cell_type": "code",
   "execution_count": 267,
   "id": "d3353e7b-72f9-449c-8792-c27d9b4ee438",
   "metadata": {},
   "outputs": [],
   "source": [
    "best_xgbr.fit(x_train_selected, y_train)\n",
    "\n",
    "xgbr_y_pred = best_xgbr.predict(x_test_selected)\n",
    "\n",
    "r2_xgbr = r2_score(y_test, xgbr_y_pred)\n",
    "mae_xgbr = mean_absolute_error(y_test, xgbr_y_pred)\n",
    "rmse_xgbr = np.sqrt(mean_squared_error(y_test, xgbr_y_pred))"
   ]
  },
  {
   "cell_type": "markdown",
   "id": "206ea34a-17d8-4d45-9bdb-d23d330ed360",
   "metadata": {},
   "source": [
    "####\n",
    "#### 3. Gradient Boosting Regression Model"
   ]
  },
  {
   "cell_type": "code",
   "execution_count": 271,
   "id": "3a5655a6-114f-4a0f-bbd8-6f58b4e88da3",
   "metadata": {},
   "outputs": [],
   "source": [
    "best_gbr.fit(x_train_selected, y_train)\n",
    "\n",
    "gbr_y_pred = best_gbr.predict(x_test_selected)\n",
    "\n",
    "r2_gbr = r2_score(y_test, gbr_y_pred)\n",
    "mae_gbr = mean_absolute_error(y_test, gbr_y_pred)\n",
    "rmse_gbr = np.sqrt(mean_squared_error(y_test, gbr_y_pred))"
   ]
  },
  {
   "cell_type": "markdown",
   "id": "3436cb90-0709-460f-b65d-b220890b1098",
   "metadata": {},
   "source": [
    "####\n",
    "#### Evaluating the best fit model for our prediction task based on following metrics"
   ]
  },
  {
   "cell_type": "code",
   "execution_count": 274,
   "id": "62302dab-50fc-44d6-9823-875526ca97a3",
   "metadata": {},
   "outputs": [
    {
     "data": {
      "text/html": [
       "<div>\n",
       "<style scoped>\n",
       "    .dataframe tbody tr th:only-of-type {\n",
       "        vertical-align: middle;\n",
       "    }\n",
       "\n",
       "    .dataframe tbody tr th {\n",
       "        vertical-align: top;\n",
       "    }\n",
       "\n",
       "    .dataframe thead th {\n",
       "        text-align: right;\n",
       "    }\n",
       "</style>\n",
       "<table border=\"1\" class=\"dataframe\">\n",
       "  <thead>\n",
       "    <tr style=\"text-align: right;\">\n",
       "      <th></th>\n",
       "      <th>Model Name</th>\n",
       "      <th>MAE</th>\n",
       "      <th>RMSE</th>\n",
       "      <th>R_Square</th>\n",
       "    </tr>\n",
       "  </thead>\n",
       "  <tbody>\n",
       "    <tr>\n",
       "      <th>0</th>\n",
       "      <td>Random Forest</td>\n",
       "      <td>0.296045</td>\n",
       "      <td>0.407977</td>\n",
       "      <td>0.680633</td>\n",
       "    </tr>\n",
       "    <tr>\n",
       "      <th>1</th>\n",
       "      <td>XGBoost</td>\n",
       "      <td>0.280282</td>\n",
       "      <td>0.389711</td>\n",
       "      <td>0.708590</td>\n",
       "    </tr>\n",
       "    <tr>\n",
       "      <th>2</th>\n",
       "      <td>Gradient Boosting</td>\n",
       "      <td>0.290022</td>\n",
       "      <td>0.399113</td>\n",
       "      <td>0.694360</td>\n",
       "    </tr>\n",
       "  </tbody>\n",
       "</table>\n",
       "</div>"
      ],
      "text/plain": [
       "          Model Name       MAE      RMSE  R_Square\n",
       "0      Random Forest  0.296045  0.407977  0.680633\n",
       "1            XGBoost  0.280282  0.389711  0.708590\n",
       "2  Gradient Boosting  0.290022  0.399113  0.694360"
      ]
     },
     "execution_count": 274,
     "metadata": {},
     "output_type": "execute_result"
    }
   ],
   "source": [
    "Evaluation_BestM = pd.DataFrame({\"Model Name\" : [\"Random Forest\", \"XGBoost\", \"Gradient Boosting\"],\n",
    "                           \"MAE\" : [mae_rfr, mae_xgbr, mae_gbr],\n",
    "                           \"RMSE\" : [rmse_rfr, rmse_xgbr, rmse_gbr],\n",
    "                           \"R_Square\" : [r2_rfr, r2_xgbr, r2_gbr]})\n",
    "Evaluation_BestM"
   ]
  },
  {
   "cell_type": "markdown",
   "id": "d8dfae45-9f6d-48be-a818-d3fa964c0639",
   "metadata": {},
   "source": [
    "##\n",
    "## Conclusion :\n",
    "From the above evaluation scores, the best model is **XGBOOST** !\n",
    " * It gives lowest MAE (0.28) and lowest RMSE: (0.39) which is comparatively better than others.\n",
    " * This model provides highest co-efficient of determination (70.85 %)\n",
    " * XGBoost provided best balance of accuracy and generalization and, errors are small and consistent."
   ]
  },
  {
   "cell_type": "markdown",
   "id": "db0d1a6e-1fd0-4a97-9991-599d13722acc",
   "metadata": {},
   "source": [
    "##\n",
    "## Feature Importance From XGBoost Model:\n",
    "We can extract and visualize feature importance from our XGBoost model."
   ]
  },
  {
   "cell_type": "code",
   "execution_count": 279,
   "id": "da5317f3-b58e-44ab-875a-2d16a6e97c05",
   "metadata": {},
   "outputs": [
    {
     "data": {
      "image/png": "[encoded data removed]",
      "text/plain": [
       "<Figure size 640x480 with 1 Axes>"
      ]
     },
     "metadata": {},
     "output_type": "display_data"
    }
   ],
   "source": [
    "import xgboost as xgb\n",
    "\n",
    "xgb.plot_importance(best_xgbr, importance_type='gain', max_num_features=10, height=0.5)\n",
    "plt.title('Top 10 Feature Importances (by Gain)')\n",
    "plt.show()"
   ]
  },
  {
   "cell_type": "code",
   "execution_count": 281,
   "id": "ed994378-ada2-4c1a-892e-f96afb430296",
   "metadata": {},
   "outputs": [
    {
     "data": {
      "image/png": "[encoded data removed]",
      "text/plain": [
       "<Figure size 640x480 with 1 Axes>"
      ]
     },
     "metadata": {},
     "output_type": "display_data"
    }
   ],
   "source": [
    "xgb.plot_importance(best_xgbr, importance_type='weight', max_num_features=10, height=0.5)\n",
    "plt.title('Top 10 Feature Importances (by Weight)')\n",
    "plt.show()"
   ]
  },
  {
   "cell_type": "code",
   "execution_count": 283,
   "id": "2a2104ac-58a9-4b4e-b5a6-001d18492977",
   "metadata": {},
   "outputs": [
    {
     "data": {
      "image/png": "[encoded data removed]",
      "text/plain": [
       "<Figure size 640x480 with 1 Axes>"
      ]
     },
     "metadata": {},
     "output_type": "display_data"
    }
   ],
   "source": [
    "xgb.plot_importance(best_xgbr, importance_type='cover', max_num_features=10, height=0.5)\n",
    "plt.title('Top 10 Feature Importances (by cover)')\n",
    "plt.show()"
   ]
  },
  {
   "cell_type": "code",
   "execution_count": 1,
   "id": "2d36390e-6d23-453c-89c9-c4870335fb24",
   "metadata": {},
   "outputs": [
    {
     "ename": "NameError",
     "evalue": "name 'best_xgbr' is not defined",
     "output_type": "error",
     "traceback": [
      "\u001b[1;31m---------------------------------------------------------------------------\u001b[0m",
      "\u001b[1;31mNameError\u001b[0m                                 Traceback (most recent call last)",
      "Cell \u001b[1;32mIn[1], line 2\u001b[0m\n\u001b[0;32m      1\u001b[0m \u001b[38;5;28;01mimport\u001b[39;00m \u001b[38;5;21;01mshap\u001b[39;00m\n\u001b[1;32m----> 2\u001b[0m explainer \u001b[38;5;241m=\u001b[39m shap\u001b[38;5;241m.\u001b[39mExplainer(best_xgbr)\n\u001b[0;32m      3\u001b[0m shap_values \u001b[38;5;241m=\u001b[39m explainer(x_test_selected)\n\u001b[0;32m      4\u001b[0m shap\u001b[38;5;241m.\u001b[39msummary_plot(shap_values, x_test_selected)\n",
      "\u001b[1;31mNameError\u001b[0m: name 'best_xgbr' is not defined"
     ]
    }
   ],
   "source": [
    "import shap\n",
    "explainer = shap.Explainer(best_xgbr)\n",
    "shap_values = explainer(x_test_selected)\n",
    "shap.summary_plot(shap_values, x_test_selected)"
   ]
  },
  {
   "cell_type": "code",
   "execution_count": null,
   "id": "92a70b2b-4ce5-4572-8860-787399c9c23f",
   "metadata": {},
   "outputs": [],
   "source": []
  }
 ],
 "metadata": {
  "kernelspec": {
   "display_name": "Python [conda env:base] *",
   "language": "python",
   "name": "conda-base-py"
  },
  "language_info": {
   "codemirror_mode": {
    "name": "ipython",
    "version": 3
   },
   "file_extension": ".py",
   "mimetype": "text/x-python",
   "name": "python",
   "nbconvert_exporter": "python",
   "pygments_lexer": "ipython3",
   "version": "3.12.3"
  }
 },
 "nbformat": 4,
 "nbformat_minor": 5
}
